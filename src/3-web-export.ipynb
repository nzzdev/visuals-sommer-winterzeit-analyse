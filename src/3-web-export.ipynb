{
 "cells": [
  {
   "cell_type": "markdown",
   "metadata": {},
   "source": [
    "# Webexport\n",
    "!! tippecanoe installieren !!\n",
    "\n",
    "```\n",
    "brew install tippecanoe\n",
    "```"
   ]
  },
  {
   "cell_type": "code",
   "execution_count": 8,
   "metadata": {},
   "outputs": [],
   "source": [
    "import geopandas as gpd\n",
    "import pandas as pd\n",
    "import json\n",
    "import os\n",
    "import consts\n",
    "from utils import categorize_time_to_half_hour, categorize_time_to_half_hour_numerical, dt_to_time, time_to_time"
   ]
  },
  {
   "cell_type": "code",
   "execution_count": 9,
   "metadata": {},
   "outputs": [],
   "source": [
    "# Load timedata\n",
    "time_data = json.load(open(consts.PATH_TIMEDATA_HEX, 'r', encoding='utf-8'))\n",
    "\n",
    "# Load Nuts3\n",
    "gdf_grid_raw = gpd.read_file(consts.PATH_HEXAGON)\n",
    "\n",
    "# Reduce precision\n",
    "#gdf_grid_raw['geometry'] = gdf_grid_raw['geometry'].apply(lambda geom: geom.simplify(tolerance=0.01))"
   ]
  },
  {
   "cell_type": "code",
   "execution_count": 10,
   "metadata": {},
   "outputs": [],
   "source": [
    "# Serialize Timedata\n",
    "df_timedata = list(map(lambda x: {\n",
    "    'nuts_id': x['nuts_id'],\n",
    "    'name': x['name'],\n",
    "    'sunrise_current_dt': x['sunrise']['current']['latest'],\n",
    "    'sunrise_summertime': x['sunrise']['summer']['latest'],\n",
    "    'sunrise_wintertime': x['sunrise']['winter']['latest']\n",
    "}, time_data))\n",
    "\n",
    "df_timedata = pd.DataFrame(df_timedata)\n",
    "\n",
    "# Convert strings to time\n",
    "df_timedata['sunrise_current'] = df_timedata['sunrise_current_dt'].apply(dt_to_time)\n",
    "df_timedata['sunrise_summertime'] = df_timedata['sunrise_summertime'].apply(time_to_time)\n",
    "df_timedata['sunrise_wintertime'] = df_timedata['sunrise_wintertime'].apply(time_to_time)\n",
    "\n",
    "# Current System\n",
    "df_timedata['sunrise_current_category'] = df_timedata['sunrise_current'].apply(\n",
    "    categorize_time_to_half_hour\n",
    ")\n",
    "\n",
    "df_timedata['sunrise_current_numerical'] = df_timedata['sunrise_current'].apply(\n",
    "    categorize_time_to_half_hour_numerical\n",
    ")\n",
    "\n",
    "# Everything on Summertime\n",
    "df_timedata['sunrise_summertime_category'] = df_timedata['sunrise_summertime'].apply(\n",
    "    categorize_time_to_half_hour\n",
    ")\n",
    "\n",
    "df_timedata['sunrise_summertime_numerical'] = df_timedata['sunrise_summertime'].apply(\n",
    "    categorize_time_to_half_hour_numerical\n",
    ")\n",
    "\n",
    "# Everything on Wintertime\n",
    "df_timedata['sunrise_wintertime_category'] = df_timedata['sunrise_wintertime'].apply(\n",
    "    categorize_time_to_half_hour\n",
    ")\n",
    "\n",
    "df_timedata['sunrise_wintertime_numerical'] = df_timedata['sunrise_wintertime'].apply(\n",
    "    categorize_time_to_half_hour_numerical\n",
    ")\n",
    "\n",
    "# Merge Dataframes\n",
    "gdf_grid = gdf_grid_raw.merge(df_timedata, left_on='NUTS_ID', right_on='nuts_id')"
   ]
  },
  {
   "cell_type": "markdown",
   "metadata": {},
   "source": [
    "## Export GeoJSON"
   ]
  },
  {
   "cell_type": "code",
   "execution_count": 11,
   "metadata": {},
   "outputs": [],
   "source": [
    "gdf_grid.to_file(consts.PATH_GEOJSON_EXPORT)"
   ]
  },
  {
   "cell_type": "markdown",
   "metadata": {},
   "source": [
    "## Convert with Tippecanoe"
   ]
  },
  {
   "cell_type": "code",
   "execution_count": null,
   "metadata": {},
   "outputs": [
    {
     "name": "stderr",
     "output_type": "stream",
     "text": [
      "For layer 0, using name \"grid\"\n",
      "6001 features, 1061212 bytes of geometry, 445878 bytes of string pool\n",
      "Choosing a maxzoom of -z1 for features typically 161371 feet (49186 meters) apart, and at least 60873 feet (18555 meters) apart\n",
      "Choosing a maxzoom of -z4 for resolution of about 20210 feet (6160 meters) within features\n",
      "  99.9%  4/9/6  \n"
     ]
    },
    {
     "data": {
      "text/plain": [
       "0"
      ]
     },
     "execution_count": 12,
     "metadata": {},
     "output_type": "execute_result"
    }
   ],
   "source": [
    "# Run Tippecanoe\n",
    "os.system(f\"tippecanoe -zg -o {consts.PATH_MBTILE_EXPORT} --drop-densest-as-needed {consts.PATH_GEOJSON_EXPORT} --force\")"
   ]
  }
 ],
 "metadata": {
  "kernelspec": {
   "display_name": "env",
   "language": "python",
   "name": "python3"
  },
  "language_info": {
   "codemirror_mode": {
    "name": "ipython",
    "version": 3
   },
   "file_extension": ".py",
   "mimetype": "text/x-python",
   "name": "python",
   "nbconvert_exporter": "python",
   "pygments_lexer": "ipython3",
   "version": "3.12.7"
  }
 },
 "nbformat": 4,
 "nbformat_minor": 2
}
