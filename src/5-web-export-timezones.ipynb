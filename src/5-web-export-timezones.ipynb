{
 "cells": [
  {
   "cell_type": "markdown",
   "metadata": {},
   "source": [
    "# Zeitzonen exportieren"
   ]
  },
  {
   "cell_type": "code",
   "execution_count": 1,
   "metadata": {},
   "outputs": [],
   "source": [
    "from pathlib import Path\n",
    "import geopandas as gpd\n",
    "import json\n",
    "import os\n",
    "import consts"
   ]
  },
  {
   "cell_type": "markdown",
   "metadata": {},
   "source": [
    "## Create 15° Lines"
   ]
  },
  {
   "cell_type": "code",
   "execution_count": 2,
   "metadata": {},
   "outputs": [],
   "source": [
    "features = []\n",
    "\n",
    "for i in range(0, 24):\n",
    "\n",
    "    lon = (i * 15) - 180 + 7.5\n",
    "\n",
    "    features.append({\n",
    "        'type': 'Feature',\n",
    "        'properties': {\n",
    "            'timezone': i,\n",
    "        },\n",
    "        'geometry': {\n",
    "            'type': 'LineString',\n",
    "            'coordinates': [\n",
    "                [lon, -90],\n",
    "                [lon, 90],\n",
    "            ]\n",
    "        }\n",
    "    })\n",
    "\n",
    "\n",
    "json.dump({\n",
    "    'type': 'FeatureCollection',\n",
    "    'features': features\n",
    "}, open(consts.PATH_GEOJSON_TIMEZONES, 'w', encoding='utf-8'), ensure_ascii=False)"
   ]
  },
  {
   "cell_type": "markdown",
   "metadata": {},
   "source": [
    "## Add Timezones to Country shapes"
   ]
  },
  {
   "cell_type": "code",
   "execution_count": 3,
   "metadata": {},
   "outputs": [],
   "source": [
    "gdf_countries_raw = gpd.read_file(Path('../data/countries-europe.gpkg'))"
   ]
  },
  {
   "cell_type": "code",
   "execution_count": 4,
   "metadata": {},
   "outputs": [],
   "source": [
    "gdf_countries = gdf_countries_raw.copy()\n",
    "\n",
    "# Set Timezone\n",
    "gdf_countries['timezone_is'] = 1\n",
    "gdf_countries.loc[gdf_countries['ISO_A2_EH'].isin(['PT', 'GB', 'IE', 'IS', 'IM', 'FO']), 'timezone_is'] = 0\n",
    "gdf_countries.loc[gdf_countries['ISO_A2_EH'].isin(['FI', 'EE', 'LT', 'LV', 'RO', 'BG', 'GR', 'MD', 'UA']), 'timezone_is'] = 2\n",
    "gdf_countries.loc[gdf_countries['ISO_A2_EH'].isin(['RU', 'BY', 'TK']), 'timezone_is'] = 3\n",
    "\n",
    "# Timezone should\n",
    "gdf_countries.loc[gdf_countries['ISO_A2_EH'].isin(['IS', 'IE', 'PT']), 'timezone_should'] = -1\n",
    "gdf_countries.loc[gdf_countries['ISO_A2_EH'].isin(['ES', 'GB', 'FR', 'BE', 'NL', 'LU', 'AD', 'JE', 'GG', 'IM', 'FO']), 'timezone_should'] = 0\n",
    "gdf_countries.loc[gdf_countries['ISO_A2_EH'].isin([\n",
    "    'DE', 'CH', 'IT', 'AT', 'PL', 'CZ', 'SI', 'HR', 'BA', 'ME', 'AL', 'MK', 'XK', 'RS', 'HU', 'SK', 'NO', 'SE', 'DK',\n",
    "     'MC', 'LI', 'MC', 'SM', 'MT'\n",
    "]), 'timezone_should'] = 1\n",
    "gdf_countries.loc[gdf_countries['ISO_A2_EH'].isin(['FI', 'EE', 'LT', 'LV', 'UA', 'RO', 'BG', 'GR', 'MD', 'BY', 'AX']), 'timezone_should'] = 2\n",
    "\n",
    "# Drop Countries\n",
    "gdf_countries = gdf_countries[~gdf_countries['ISO_A2_EH'].isin(['RU', 'TK'])]\n",
    "\n",
    "gdf_countries = gdf_countries[['geometry', 'ISO_A2_EH', 'timezone_is', 'timezone_should']]\n",
    "\n",
    "gdf_countries.to_file(consts.PATH_GEOJSON_COUNTRIES)"
   ]
  },
  {
   "cell_type": "markdown",
   "metadata": {},
   "source": [
    "## Merge everything"
   ]
  },
  {
   "cell_type": "code",
   "execution_count": 3,
   "metadata": {},
   "outputs": [
    {
     "name": "stderr",
     "output_type": "stream",
     "text": [
      "For layer 0, using name \"countries\"\n",
      "For layer 1, using name \"grid\"\n",
      "For layer 2, using name \"timezonelines\"\n",
      "For layer 3, using name \"gridhourly\"\n",
      "12568 features, 3727477 bytes of geometry, 527508 bytes of string pool\n",
      "Choosing a maxzoom of -z1 for features typically 162148 feet (49423 meters) apart, and at least 54232 feet (16530 meters) apart\n",
      "Choosing a maxzoom of -z4 for resolution of about 21900 feet (6675 meters) within features\n",
      "tile 0/0/0 size is 619247 with detail 12, >500000    \n",
      "Going to try keeping the sparsest 72.67% of the features to make it fit\n",
      "tile 1/1/0 size is 593519 with detail 12, >500000    \n",
      "Going to try keeping the sparsest 75.82% of the features to make it fit\n",
      "tile 2/2/1 size is 570625 with detail 12, >500000    \n",
      "Going to try keeping the sparsest 78.86% of the features to make it fit\n",
      "tile 3/4/2 size is 554232 with detail 12, >500000    \n",
      "Going to try keeping the sparsest 81.19% of the features to make it fit\n",
      "  99.9%  4/6/5    \n"
     ]
    },
    {
     "data": {
      "text/plain": [
       "0"
      ]
     },
     "execution_count": 3,
     "metadata": {},
     "output_type": "execute_result"
    }
   ],
   "source": [
    "# Run Tippecanoe\n",
    "os.system(f\"tippecanoe -zg -o {consts.PATH_WEBEXPORT / 'zeitumstellung.mbtiles'} --drop-densest-as-needed {consts.PATH_GEOJSON_COUNTRIES} {consts.PATH_GEOJSON_EXPORT} {consts.PATH_GEOJSON_TIMEZONES} {consts.PATH_GEOJSON_HOURLY} --force\")"
   ]
  },
  {
   "cell_type": "code",
   "execution_count": null,
   "metadata": {},
   "outputs": [],
   "source": []
  }
 ],
 "metadata": {
  "kernelspec": {
   "display_name": "env",
   "language": "python",
   "name": "python3"
  },
  "language_info": {
   "codemirror_mode": {
    "name": "ipython",
    "version": 3
   },
   "file_extension": ".py",
   "mimetype": "text/x-python",
   "name": "python",
   "nbconvert_exporter": "python",
   "pygments_lexer": "ipython3",
   "version": "3.12.7"
  }
 },
 "nbformat": 4,
 "nbformat_minor": 2
}
