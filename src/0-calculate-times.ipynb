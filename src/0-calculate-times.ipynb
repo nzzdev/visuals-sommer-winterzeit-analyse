{
 "cells": [
  {
   "cell_type": "markdown",
   "metadata": {},
   "source": [
    "# Calculate Sunset and Sunrise\n",
    "Welcome to this ugly notebook! What you find here: Calculates the earliest and latest sunrise and sunset for:\n",
    "- the current year\n",
    "- if everything was in wintertime\n",
    "- if everything was in summertime\n",
    "\n",
    "Earliest sunrise is not during longest day. There may be a fancy formula to calculate this. We go bruth force. So we calculate the sunrise and sunset for each day in year 2025 and find the corresponding entry.\n",
    "\n",
    "## ToDo\n",
    "* Add Andorra\n",
    "* Add Bosnia and Herzegovina\n",
    "* Isle of man, Jersey, Guernsey\n",
    "* Nie Nacht prüfen\n",
    "* Hexagons"
   ]
  },
  {
   "cell_type": "code",
   "execution_count": 11,
   "metadata": {},
   "outputs": [],
   "source": [
    "import pandas as pd\n",
    "import geopandas as gpd\n",
    "from pathlib import Path\n",
    "from astral import Observer\n",
    "from astral.sun import sun\n",
    "from datetime import datetime, timedelta\n",
    "from dateutil.relativedelta import relativedelta\n",
    "from timezonefinder import TimezoneFinder\n",
    "import pytz\n",
    "from tqdm import tqdm\n",
    "import json"
   ]
  },
  {
   "cell_type": "markdown",
   "metadata": {},
   "source": [
    "## Defines"
   ]
  },
  {
   "cell_type": "code",
   "execution_count": 12,
   "metadata": {},
   "outputs": [],
   "source": [
    "path_nuts_eu = Path('../data/nuts3/NUTS_RG_20M_2024_4326.geojson')\n",
    "path_nuts_uk = Path('../data/nuts3/NUTS_Level_3_January_2018_GCB_in_the_United_Kingdom_2022_-764267078201060548.geojson')\n",
    "path_boundaries = Path('../data/europeboundaries.geojson')\n",
    "path_timedata = Path('../export/timedata.json')"
   ]
  },
  {
   "cell_type": "markdown",
   "metadata": {},
   "source": [
    "## Import Data"
   ]
  },
  {
   "cell_type": "code",
   "execution_count": 14,
   "metadata": {},
   "outputs": [],
   "source": [
    "# Import Nuts EU\n",
    "gpd_nuts_eu = gpd.read_file(path_nuts_eu)\n",
    "gpd_nuts_eu = gpd_nuts_eu[gpd_nuts_eu.LEVL_CODE == 3]\n",
    "\n",
    "# Remove some countries\n",
    "gpd_nuts_eu = gpd_nuts_eu[~gpd_nuts_eu.CNTR_CODE.isin(['TR'])]\n",
    "\n",
    "# Import Nuts UK\n",
    "gpd_nuts_uk = gpd.read_file(path_nuts_uk)\n",
    "gpd_nuts_uk.rename(columns={\n",
    "    'nuts318cd': 'NUTS_ID',\n",
    "    'nuts318nm': 'NAME_LATN'\n",
    "    }, inplace=True)\n",
    "gpd_nuts_uk.to_crs(gpd_nuts_eu.crs, inplace=True)\n",
    "\n",
    "# Merge\n",
    "gpd_nuts = pd.concat([gpd_nuts_eu, gpd_nuts_uk], ignore_index=True)\n",
    "gpd_nuts = gpd_nuts[['NUTS_ID', 'NAME_LATN', 'geometry']]\n",
    "\n",
    "# Add timezone information to the GeoDataFrame\n",
    "tf:TimezoneFinder = TimezoneFinder()\n",
    "gpd_nuts['timezone'] = gpd_nuts.apply(\n",
    "    lambda row: tf.timezone_at(lat=row.geometry.centroid.y, lng=row.geometry.centroid.x), axis=1\n",
    ")\n",
    "\n",
    "# Drop overseas\n",
    "gdf_boundaries = gpd.read_file(path_boundaries)\n",
    "gpd_nuts = gpd.overlay(gpd_nuts, gdf_boundaries, how='intersection')\n",
    "\n",
    "# Save masternuts\n",
    "gpd_nuts.to_file('../export/masternuts.gpkg')"
   ]
  },
  {
   "cell_type": "markdown",
   "metadata": {},
   "source": [
    "## Calculate"
   ]
  },
  {
   "cell_type": "code",
   "execution_count": null,
   "metadata": {},
   "outputs": [
    {
     "name": "stderr",
     "output_type": "stream",
     "text": [
      "  0%|          | 0/1425 [00:00<?, ?it/s]"
     ]
    },
    {
     "name": "stderr",
     "output_type": "stream",
     "text": [
      "100%|██████████| 1425/1425 [00:25<00:00, 56.93it/s]"
     ]
    },
    {
     "name": "stdout",
     "output_type": "stream",
     "text": [
      "🍩 Finito\n"
     ]
    },
    {
     "name": "stderr",
     "output_type": "stream",
     "text": [
      "\n"
     ]
    }
   ],
   "source": [
    "# Get all possible dates from 2025\n",
    "dates = [datetime(2025, 1, 1) + timedelta(days=x) for x in range(365)]\n",
    "\n",
    "timedata = []\n",
    "\n",
    "def transform_date_to_winter_summer_time(sun_object, event):\n",
    "\n",
    "    datetime_local = s[event].astimezone(local_tz)\n",
    "\n",
    "    # Subtract half a year from local_date\n",
    "    half_year_before = sun_object[event] - relativedelta(months=6)\n",
    "    half_year_before = half_year_before.astimezone(local_tz)\n",
    "\n",
    "    if bool(half_year_before.dst()) == False:\n",
    "        # Wintertime, no DST\n",
    "        datetime_winter = half_year_before.time()\n",
    "        datetime_summer = datetime_local.time()\n",
    "    else:\n",
    "        # Summertime, DST\n",
    "        datetime_winter = datetime_local.time()\n",
    "        datetime_summer = half_year_before.time()  \n",
    "       \n",
    "    return {\n",
    "            'utc': sun_object[event],\n",
    "            'local': datetime_local,\n",
    "            'time_winter': datetime_winter,\n",
    "            'time_summer': datetime_summer,\n",
    "        }\n",
    "\n",
    "def find_earliest_and_latest_in_list(suns_per_day, event, timeperiod):\n",
    "    return {\n",
    "            'earliest': min(suns_per_day[event], key=lambda x: x[timeperiod])[timeperiod],\n",
    "            'earliest_day': min(suns_per_day[event], key=lambda x: x[timeperiod])['local'].date(),\n",
    "            'latest': max(suns_per_day[event], key=lambda x: x[timeperiod])[timeperiod],\n",
    "            'latest_day': max(suns_per_day[event], key=lambda x: x[timeperiod])['local'].date()\n",
    "        }\n",
    "\n",
    "with tqdm(total=len(gpd_nuts)) as pbar:\n",
    "    # for i, row in gpd_nuts[gpd_nuts.NAME_LATN == 'Zürich'].iterrows():\n",
    "    for i, row in gpd_nuts.iterrows():\n",
    "\n",
    "        pbar.update()\n",
    "\n",
    "        location = Observer(row.geometry.centroid.y, row.geometry.centroid.x)\n",
    "\n",
    "        # Earliest sunrise is not the same as the longest day. We need to calculate\n",
    "        # the earliest day. We could do that the proper way. Or we could just bruth\n",
    "        # force it. You know what we are gonna do..?\n",
    "        suns_per_day = {\n",
    "            'sunrise': [],\n",
    "            'sunset': []\n",
    "        }\n",
    "\n",
    "        local_tz = pytz.timezone(row.timezone)\n",
    "        for d in dates:\n",
    "            try:\n",
    "                s = sun(location, date=d)\n",
    "                suns_per_day['sunrise'].append(transform_date_to_winter_summer_time(s, 'sunrise'))\n",
    "                suns_per_day['sunset'].append(transform_date_to_winter_summer_time(s, 'sunset'))\n",
    "            except ValueError:\n",
    "                pass\n",
    "\n",
    "        # Now get the earliest sunrise for winter and summer time\n",
    "        record = {\n",
    "            'nuts_id': row['NUTS_ID'],\n",
    "            'name': row['NAME_LATN'],\n",
    "            'sunrise': {\n",
    "                'summer': find_earliest_and_latest_in_list(suns_per_day, 'sunrise', 'time_summer'),\n",
    "                'winter': find_earliest_and_latest_in_list(suns_per_day, 'sunrise', 'time_winter'),\n",
    "                'current': {\n",
    "                    'earliest': min(suns_per_day['sunrise'], key=lambda x: x['local'].time())['local'],\n",
    "                    'latest': max(suns_per_day['sunrise'], key=lambda x: x['local'].time())['local']\n",
    "                }\n",
    "            },\n",
    "            'sunset': {\n",
    "                'summer': find_earliest_and_latest_in_list(suns_per_day, 'sunset', 'time_summer'),\n",
    "                'winter': find_earliest_and_latest_in_list(suns_per_day, 'sunset', 'time_winter'),\n",
    "                'current': {\n",
    "                    'earliest': min(suns_per_day['sunset'], key=lambda x: x['local'].time())['local'],\n",
    "                    'latest': max(suns_per_day['sunset'], key=lambda x: x['local'].time())['local']\n",
    "                }\n",
    "            }\n",
    "        }\n",
    "\n",
    "        timedata.append(record)\n",
    "\n",
    "# Store\n",
    "json.dump(timedata, open(path_timedata, 'w', encoding='UTF-8'), ensure_ascii=False, indent=2, default=str)\n",
    "\n",
    "print(\"🍩 Finito\")"
   ]
  }
 ],
 "metadata": {
  "kernelspec": {
   "display_name": "env",
   "language": "python",
   "name": "python3"
  },
  "language_info": {
   "codemirror_mode": {
    "name": "ipython",
    "version": 3
   },
   "file_extension": ".py",
   "mimetype": "text/x-python",
   "name": "python",
   "nbconvert_exporter": "python",
   "pygments_lexer": "ipython3",
   "version": "3.12.7"
  }
 },
 "nbformat": 4,
 "nbformat_minor": 2
}
