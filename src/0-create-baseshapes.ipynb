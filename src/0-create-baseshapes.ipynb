{
 "cells": [
  {
   "cell_type": "markdown",
   "metadata": {},
   "source": [
    "# Create Masternuts and Hexbins"
   ]
  },
  {
   "cell_type": "code",
   "execution_count": null,
   "metadata": {},
   "outputs": [],
   "source": [
    "import geopandas as gpd\n",
    "import h3\n",
    "from shapely.geometry import Polygon, Point\n",
    "import pandas as pd\n",
    "from pathlib import Path\n",
    "from timezonefinder import TimezoneFinder\n",
    "import consts\n",
    "import overpy\n",
    "import json"
   ]
  },
  {
   "cell_type": "code",
   "execution_count": null,
   "metadata": {},
   "outputs": [],
   "source": [
    "tf:TimezoneFinder = TimezoneFinder()"
   ]
  },
  {
   "cell_type": "markdown",
   "metadata": {},
   "source": [
    "## Create Masternuts"
   ]
  },
  {
   "cell_type": "code",
   "execution_count": null,
   "metadata": {},
   "outputs": [],
   "source": [
    "# Import Nuts EU\n",
    "gpd_nuts_eu = gpd.read_file(consts.PATH_NUTS_EU)\n",
    "gpd_nuts_eu = gpd_nuts_eu[gpd_nuts_eu.LEVL_CODE == 3]\n",
    "\n",
    "# Remove some countries\n",
    "gpd_nuts_eu = gpd_nuts_eu[~gpd_nuts_eu.CNTR_CODE.isin(['TR'])]\n",
    "\n",
    "# Import Nuts UK\n",
    "gpd_nuts_uk = gpd.read_file(consts.PATH_NUTS_UK)\n",
    "gpd_nuts_uk.rename(columns={\n",
    "    'nuts318cd': 'NUTS_ID',\n",
    "    'nuts318nm': 'NAME_LATN'\n",
    "    }, inplace=True)\n",
    "gpd_nuts_uk.to_crs(gpd_nuts_eu.crs, inplace=True)\n",
    "\n",
    "# Import Bosnia. Has no NUTS\n",
    "gdf_bosnia = gpd.read_file(consts.PATH_BORDERS)\n",
    "gdf_bosnia = gdf_bosnia[gdf_bosnia.CNTR_ID == 'BA']\n",
    "gdf_bosnia.rename(columns={'ISO3_CODE': 'NUTS_ID', 'NAME_ENGL': 'NAME_LATN'}, inplace=True)\n",
    "gdf_bosnia = gdf_bosnia[['NUTS_ID', 'NAME_LATN', 'geometry']]\n",
    "\n",
    "# Merge\n",
    "gpd_nuts = pd.concat([gpd_nuts_eu, gpd_nuts_uk, gdf_bosnia], ignore_index=True)\n",
    "gpd_nuts = gpd_nuts[['NUTS_ID', 'NAME_LATN', 'geometry']]\n",
    "\n",
    "# Add timezone information to the GeoDataFrame\n",
    "gpd_nuts['timezone'] = gpd_nuts.apply(\n",
    "    lambda row: tf.timezone_at(lat=row.geometry.centroid.y, lng=row.geometry.centroid.x), axis=1\n",
    ")\n",
    "\n",
    "# Drop overseas\n",
    "gdf_boundaries = gpd.read_file(consts.PATH_BOUNDARIES)\n",
    "gpd_nuts = gpd.overlay(gpd_nuts, gdf_boundaries, how='intersection')\n",
    "\n",
    "# Save masternuts\n",
    "gpd_nuts.to_file(consts.PATH_MASTERNUTS)"
   ]
  },
  {
   "cell_type": "markdown",
   "metadata": {},
   "source": [
    "## Create Grid"
   ]
  },
  {
   "cell_type": "code",
   "execution_count": null,
   "metadata": {},
   "outputs": [],
   "source": [
    "# Define the bounding box for Europe (approximate)\n",
    "min_lat, min_lon = -25.0,34.0\n",
    "max_lat, max_lon = 45.0,72.0\n",
    "\n",
    "# Define the resolution for the hexagons (adjust as needed)\n",
    "resolution = 4  # This resolution corresponds to hexagons with an edge length of ~50 km\n",
    "\n",
    "# Generate hexagons within the bounding box\n",
    "hexagons = []\n",
    "for lat in range(int(min_lat * 100), int(max_lat * 100), 1):\n",
    "    for lon in range(int(min_lon * 100), int(max_lon * 100), 1):\n",
    "        hex_id = h3.latlng_to_cell(lat / 100.0, lon / 100.0, resolution)\n",
    "        hexagons.append(hex_id)\n",
    "\n",
    "# Convert hexagons to polygons\n",
    "hexagon_polygons = [Polygon(h3.cell_to_boundary(h)) for h in set(hexagons)]\n",
    "\n",
    "# Create a GeoDataFrame\n",
    "gdf_hexagons = gpd.GeoDataFrame({'geometry': hexagon_polygons})\n",
    "\n",
    "# Set the coordinate reference system (CRS) to WGS84 (EPSG:4326)\n",
    "gdf_hexagons.crs = 'EPSG:4326'"
   ]
  },
  {
   "cell_type": "markdown",
   "metadata": {},
   "source": [
    "## Cut Grid"
   ]
  },
  {
   "cell_type": "code",
   "execution_count": null,
   "metadata": {},
   "outputs": [],
   "source": [
    "df_eu = gpd.read_file(Path('../data/countries-europe.gpkg'))\n",
    "\n",
    "# Remove countries\n",
    "df_eu = df_eu[~df_eu.ISO_A2_EH.isin(['RU', 'BY', 'UA'])]\n",
    "\n",
    "df_eu = df_eu.dissolve()"
   ]
  },
  {
   "cell_type": "code",
   "execution_count": null,
   "metadata": {},
   "outputs": [],
   "source": [
    "# Cut and export\n",
    "gdf_hexagons_cut = gpd.overlay(gdf_hexagons, df_eu, how='intersection')\n",
    "gdf_hexagons_cut = gdf_hexagons_cut[['geometry']].copy()\n",
    "\n",
    "# Add Timezone\n",
    "gdf_hexagons_cut['timezone'] = gdf_hexagons_cut.apply(\n",
    "    lambda row: tf.timezone_at(lat=row.geometry.centroid.y, lng=row.geometry.centroid.x), axis=1\n",
    ")\n",
    "\n",
    "gdf_hexagons_cut.reset_index(drop=False, inplace=True)\n",
    "gdf_hexagons_cut.rename(columns={'index':'NUTS_ID'}, inplace=True)\n",
    "gdf_hexagons_cut.to_file(consts.PATH_HEXAGON)"
   ]
  },
  {
   "cell_type": "markdown",
   "metadata": {},
   "source": [
    "## Download Labels from OSM"
   ]
  },
  {
   "cell_type": "code",
   "execution_count": 26,
   "metadata": {},
   "outputs": [],
   "source": [
    "gdf_hexagons_cut = gpd.read_file(consts.PATH_HEXAGON)"
   ]
  },
  {
   "cell_type": "code",
   "execution_count": null,
   "metadata": {},
   "outputs": [
    {
     "data": {
      "text/plain": [
       "array([-25.4042823 ,  34.81500886,  31.56952478,  71.1803653 ])"
      ]
     },
     "execution_count": 35,
     "metadata": {},
     "output_type": "execute_result"
    }
   ],
   "source": []
  },
  {
   "cell_type": "code",
   "execution_count": null,
   "metadata": {},
   "outputs": [],
   "source": [
    "api = overpy.Overpass()\n",
    "\n",
    "def get_features(place):\n",
    "\n",
    "    x1 = gdf_hexagons_cut.total_bounds[1]\n",
    "    y1 = gdf_hexagons_cut.total_bounds[0]\n",
    "    x2 = gdf_hexagons_cut.total_bounds[3]\n",
    "    y2 = gdf_hexagons_cut.total_bounds[2]\n",
    "\n",
    "    # Call Overpass\n",
    "    result = api.query(f\"\"\"\n",
    "        (\n",
    "        node[\"place\"=\"{place}\"]({x1},{y1},{x2},{y2});\n",
    "        );\n",
    "        (._;>;);\n",
    "        out body;\n",
    "    \"\"\")\n",
    "\n",
    "    # Create GeoJSON Features\n",
    "    features = []\n",
    "    for n in result.nodes:\n",
    "        features.append({\n",
    "        \"type\": \"Feature\",\n",
    "        \"properties\": n.tags,\n",
    "        \"geometry\": {\n",
    "            \"type\": \"Point\",\n",
    "            \"coordinates\": [\n",
    "                float(n.lon),\n",
    "                float(n.lat)\n",
    "            ]\n",
    "        }\n",
    "    })\n",
    "\n",
    "    return features\n",
    "\n",
    "geojson = {\n",
    "  \"type\": \"FeatureCollection\",\n",
    "  \"features\": get_features('city') + get_features('town')\n",
    "}\n",
    "\n",
    "# Export\n",
    "json.dump(geojson, open(Path('../export/citylabels.geojson'), 'w'), ensure_ascii=False, indent = 2)    "
   ]
  },
  {
   "cell_type": "code",
   "execution_count": null,
   "metadata": {},
   "outputs": [],
   "source": []
  }
 ],
 "metadata": {
  "kernelspec": {
   "display_name": "env",
   "language": "python",
   "name": "python3"
  },
  "language_info": {
   "codemirror_mode": {
    "name": "ipython",
    "version": 3
   },
   "file_extension": ".py",
   "mimetype": "text/x-python",
   "name": "python",
   "nbconvert_exporter": "python",
   "pygments_lexer": "ipython3",
   "version": "3.12.7"
  }
 },
 "nbformat": 4,
 "nbformat_minor": 2
}
