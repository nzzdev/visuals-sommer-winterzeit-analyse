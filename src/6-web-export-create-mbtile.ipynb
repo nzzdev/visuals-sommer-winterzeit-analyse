{
 "cells": [
  {
   "cell_type": "markdown",
   "metadata": {},
   "source": [
    "# Merge everything to an mbtiles\n",
    "\n",
    "!! tippecanoe installieren !!\n",
    "\n",
    "```\n",
    "brew install tippecanoe\n",
    "```"
   ]
  },
  {
   "cell_type": "code",
   "execution_count": 1,
   "metadata": {},
   "outputs": [],
   "source": [
    "from pathlib import Path\n",
    "import os\n",
    "import consts"
   ]
  },
  {
   "cell_type": "code",
   "execution_count": null,
   "metadata": {},
   "outputs": [
    {
     "name": "stderr",
     "output_type": "stream",
     "text": [
      "56273 features, 13813024 bytes of geometry, 3155240 bytes of string pool\n",
      "Choosing a maxzoom of -z1 for features typically 159226 feet (48532 meters) apart, and at least 57820 feet (17624 meters) apart\n",
      "Choosing a maxzoom of -z4 for resolution of about 25396 feet (7740 meters) within features\n",
      "  99.9%  4/8/5  \n"
     ]
    },
    {
     "data": {
      "text/plain": [
       "0"
      ]
     },
     "execution_count": 22,
     "metadata": {},
     "output_type": "execute_result"
    }
   ],
   "source": [
    "# Run Tippecanoe\n",
    "\n",
    "layers = [\n",
    "    f\"popupdata:{consts.PATH_GEOJSON_POPUPDATA}\",\n",
    "\n",
    "    # f\"countries:{consts.PATH_GEOJSON_COUNTRIES}\",\n",
    "    # consts.PATH_GEOJSON_TIMEZONES,\n",
    "    # consts.PATH_WEBEXPORT / 'sunrise-latest-current.geojson',\n",
    "    # consts.PATH_WEBEXPORT / 'sunset-earliest-current.geojson',\n",
    "\n",
    "    f\"sunrise-latest-summer:{consts.PATH_WEBEXPORT / 'sunrise-latest-summer.geojson'}\",\n",
    "    f\"sunrise-latest-winter:{consts.PATH_WEBEXPORT / 'sunrise-latest-winter.geojson'}\",\n",
    "    f\"sunrise-earliest-summer:{consts.PATH_WEBEXPORT / 'sunrise-earliest-summer.geojson'}\",\n",
    "    f\"sunrise-earliest-winter:{consts.PATH_WEBEXPORT / 'sunrise-earliest-winter.geojson'}\",\n",
    "\n",
    "    f\"sunset-earliest-summer:{consts.PATH_WEBEXPORT / 'sunset-earliest-summer.geojson'}\",\n",
    "    f\"sunset-earliest-winter:{consts.PATH_WEBEXPORT / 'sunset-earliest-winter.geojson'}\",\n",
    "    f\"sunset-latest-summer:{consts.PATH_WEBEXPORT / 'sunset-latest-summer.geojson'}\",\n",
    "    f\"sunset-latest-winter:{consts.PATH_WEBEXPORT / 'sunset-latest-winter.geojson'}\"\n",
    "]\n",
    "\n",
    "layers = list(map(lambda x: f' -L {x}', layers))\n",
    "layers_str = ' '.join([str(layer) for layer in layers])\n",
    "\n",
    "os.system(f\"\"\"tippecanoe -zg -o {consts.PATH_WEBEXPORT / 'zeitumstellung.mbtiles'} {layers_str} --force --extend-zooms-if-still-dropping --no-feature-limit --no-tile-size-limit\"\"\")\n"
   ]
  },
  {
   "cell_type": "code",
   "execution_count": null,
   "metadata": {},
   "outputs": [],
   "source": []
  }
 ],
 "metadata": {
  "kernelspec": {
   "display_name": "env",
   "language": "python",
   "name": "python3"
  },
  "language_info": {
   "codemirror_mode": {
    "name": "ipython",
    "version": 3
   },
   "file_extension": ".py",
   "mimetype": "text/x-python",
   "name": "python",
   "nbconvert_exporter": "python",
   "pygments_lexer": "ipython3",
   "version": "3.12.7"
  }
 },
 "nbformat": 4,
 "nbformat_minor": 2
}
