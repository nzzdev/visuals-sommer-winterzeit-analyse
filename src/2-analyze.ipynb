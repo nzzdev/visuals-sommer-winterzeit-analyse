{
 "cells": [
  {
   "cell_type": "markdown",
   "metadata": {},
   "source": [
    "# Analyze "
   ]
  },
  {
   "cell_type": "code",
   "execution_count": 1,
   "metadata": {},
   "outputs": [],
   "source": [
    "import pandas as pd\n",
    "import geopandas as gpd\n",
    "from pathlib import Path\n",
    "import datetime\n",
    "import json\n",
    "import folium\n",
    "import utils\n",
    "from utils import categorize_time_to_half_hour, categorize_time_to_half_hour_numerical, dt_to_time, time_to_time\n",
    "import consts"
   ]
  },
  {
   "cell_type": "markdown",
   "metadata": {},
   "source": [
    "## Defines"
   ]
  },
  {
   "cell_type": "code",
   "execution_count": 2,
   "metadata": {},
   "outputs": [],
   "source": [
    "USE_GRID = 'hex'"
   ]
  },
  {
   "cell_type": "code",
   "execution_count": 3,
   "metadata": {},
   "outputs": [],
   "source": [
    "if USE_GRID == 'nuts':\n",
    "    path_timedata = consts.PATH_TIMEDATA_NUTS\n",
    "    path_grid = consts.PATH_MASTERNUTS\n",
    "    path_map = consts.PATH_DOCS / 'sunrise-nuts.html'\n",
    "elif USE_GRID == 'hex':\n",
    "    path_timedata = consts.PATH_TIMEDATA_HEX\n",
    "    path_grid = consts.PATH_HEXAGON\n",
    "    path_map = consts.PATH_DOCS / 'sunrise-hex.html'\n",
    "else:\n",
    "    raise ValueError(f\"Unknown grid type {USE_GRID}\")"
   ]
  },
  {
   "cell_type": "markdown",
   "metadata": {},
   "source": [
    "## Load data"
   ]
  },
  {
   "cell_type": "code",
   "execution_count": 4,
   "metadata": {},
   "outputs": [],
   "source": [
    "# Load timedata\n",
    "time_data = json.load(open(path_timedata, 'r', encoding='utf-8'))\n",
    "\n",
    "# Load Nuts3\n",
    "gdf_grid_raw = gpd.read_file(path_grid)\n",
    "\n",
    "# Reduce precision\n",
    "gdf_grid_raw['geometry'] = gdf_grid_raw['geometry'].apply(lambda geom: geom.simplify(tolerance=0.01))\n",
    "\n",
    "# Load Countryborders\n",
    "gdf_borders = gpd.read_file(consts.PATH_BORDERS)\n",
    "gdf_borders['geometry'] = gdf_borders['geometry'].apply(lambda geom: geom.simplify(tolerance=0.01))"
   ]
  },
  {
   "cell_type": "markdown",
   "metadata": {},
   "source": [
    "## Prepare Dataset"
   ]
  },
  {
   "cell_type": "code",
   "execution_count": 5,
   "metadata": {},
   "outputs": [],
   "source": [
    "# Serialize JSON\n",
    "df_timedata = list(map(lambda x: {\n",
    "    'nuts_id': x['nuts_id'],\n",
    "    'name': x['name'],\n",
    "    'sunrise_current': x['sunrise']['current']['latest'],\n",
    "    'sunrise_summertime': x['sunrise']['summer']['latest'],\n",
    "    'sunrise_wintertime': x['sunrise']['winter']['latest'],\n",
    "    # 'sunrise_current': x['sunrise']['current']['earliest'],\n",
    "    # 'sunrise_summertime': x['sunrise']['summer']['earliest'],\n",
    "    # 'sunrise_wintertime': x['sunrise']['winter']['earliest'],\n",
    "}, time_data))\n",
    "\n",
    "df_timedata = pd.DataFrame(df_timedata)\n",
    "\n",
    "# Convert strings to time\n",
    "df_timedata['sunrise_current'] = df_timedata['sunrise_current'].apply(time_to_time)\n",
    "df_timedata['sunrise_summertime'] = df_timedata['sunrise_summertime'].apply(time_to_time)\n",
    "df_timedata['sunrise_wintertime'] = df_timedata['sunrise_wintertime'].apply(time_to_time)\n",
    "\n",
    "# Current System\n",
    "df_timedata['sunrise_current_category'] = df_timedata['sunrise_current'].apply(\n",
    "    categorize_time_to_half_hour\n",
    ")\n",
    "\n",
    "df_timedata['sunrise_current_numerical'] = df_timedata['sunrise_current'].apply(\n",
    "    categorize_time_to_half_hour_numerical\n",
    ")\n",
    "\n",
    "# Everything on Summertime\n",
    "df_timedata['sunrise_summertime_category'] = df_timedata['sunrise_summertime'].apply(\n",
    "    categorize_time_to_half_hour\n",
    ")\n",
    "\n",
    "df_timedata['sunrise_summertime_numerical'] = df_timedata['sunrise_summertime'].apply(\n",
    "    categorize_time_to_half_hour_numerical\n",
    ")\n",
    "\n",
    "# Everything on Wintertime\n",
    "df_timedata['sunrise_wintertime_category'] = df_timedata['sunrise_wintertime'].apply(\n",
    "    categorize_time_to_half_hour\n",
    ")\n",
    "\n",
    "df_timedata['sunrise_wintertime_numerical'] = df_timedata['sunrise_wintertime'].apply(\n",
    "    categorize_time_to_half_hour_numerical\n",
    ")\n",
    "\n",
    "# Merge Dataframes\n",
    "gdf_grid = gdf_grid_raw.merge(df_timedata, left_on='NUTS_ID', right_on='nuts_id')"
   ]
  },
  {
   "cell_type": "code",
   "execution_count": 20,
   "metadata": {},
   "outputs": [],
   "source": [
    "m = folium.Map(\n",
    "    tiles=None,\n",
    "    prefer_canvas=False\n",
    ")\n",
    "\n",
    "folium.TileLayer(\n",
    "    'cartodbpositron',\n",
    "    opacity=0.4\n",
    ").add_to(m)\n",
    "\n",
    "# Create bins evenly distributed with 0 in the center\n",
    "min_value = min(\n",
    "    gdf_grid['sunrise_current_numerical'].min(),\n",
    "    gdf_grid['sunrise_summertime_numerical'].min(),\n",
    "    gdf_grid['sunrise_wintertime_numerical'].min()\n",
    ")\n",
    "max_value = max(\n",
    "    gdf_grid['sunrise_current_numerical'].max(),\n",
    "    gdf_grid['sunrise_summertime_numerical'].max(),\n",
    "    gdf_grid['sunrise_wintertime_numerical'].max()\n",
    ")\n",
    "bins = [x * 0.5 for x in range(int(min_value * 2), int(max_value * 2) + 1)]\n",
    "\n",
    "def add_choropleth(name, field, popup_fields):\n",
    "\n",
    "    cp = folium.Choropleth(\n",
    "        geo_data=gdf_grid.to_json(default=str),\n",
    "        name=name,\n",
    "        data=df_timedata,\n",
    "        columns=[\"nuts_id\", field],\n",
    "        key_on=\"feature.properties.NUTS_ID\",\n",
    "        fill_color=\"Greys\",\n",
    "        fill_opacity=1,\n",
    "        line_opacity=0.4,\n",
    "        bins = bins,\n",
    "        overlay=True,\n",
    "        show=(name == \"Aktuelles System\")\n",
    "    ).add_to(m)\n",
    "\n",
    "\n",
    "    folium.GeoJsonTooltip([\"name\"] + popup_fields).add_to(cp.geojson)    \n",
    "\n",
    "add_choropleth(\"Aktuelles System\", 'sunrise_current_numerical', ['sunrise_current_category', 'sunrise_current'])\n",
    "add_choropleth(\"Sommerzeit\", 'sunrise_summertime_numerical', ['sunrise_summertime_category', 'sunrise_summertime'])\n",
    "add_choropleth(\"Winterzeit\", 'sunrise_wintertime_numerical', ['sunrise_wintertime_category', 'sunrise_wintertime'])\n",
    "\n",
    "# Add Country borders\n",
    "boudaries = folium.GeoJson(\n",
    "    gdf_borders,\n",
    "    name=\"Ländergrenzen\",\n",
    "    style_function=lambda x: {\n",
    "        'color': 'white',\n",
    "        'weight': 1,\n",
    "        'fillOpacity': 0,\n",
    "        'interactive':False\n",
    "    },\n",
    "    control=False\n",
    ").add_to(m)\n",
    "m.keep_in_front(boudaries)\n",
    "\n",
    "m.fit_bounds([[34.615, -10.334], [71.114, 34.5896]])\n",
    "\n",
    "folium.LayerControl(collapsed=False).add_to(m)\n",
    "\n",
    "utils.addTitle(m, \"Spätester Sonnenaufgang\")\n",
    "\n",
    "m.save(path_map)"
   ]
  },
  {
   "cell_type": "markdown",
   "metadata": {},
   "source": [
    "## Create Hourly-Map"
   ]
  },
  {
   "cell_type": "code",
   "execution_count": 17,
   "metadata": {},
   "outputs": [],
   "source": [
    "# Load timedata\n",
    "time_data_hourly = json.load(open(consts.PATH_TIMEDATA_HOURLY_HEX, 'r', encoding='utf-8'))"
   ]
  },
  {
   "cell_type": "code",
   "execution_count": 19,
   "metadata": {},
   "outputs": [],
   "source": [
    "# Create style dict\n",
    "styledict = {}\n",
    "\n",
    "colors = {\n",
    "    'night': 'black',\n",
    "    'dawn': '#312a7d',\n",
    "    'sunrise': '#b48ad1',\n",
    "    'day': '#e1cde1',\n",
    "}\n",
    "\n",
    "for cell in time_data_hourly:\n",
    "\n",
    "    styledict[cell['nuts_id']] = {}\n",
    "    for step in cell['sunrise']['current']['latest']:\n",
    "\n",
    "        key = '2025-01-01T{time}'.format(\n",
    "            time=step['time']\n",
    "        )\n",
    "        \n",
    "        key = int(datetime.datetime.strptime(key, '%Y-%m-%dT%H:%M').timestamp())\n",
    "\n",
    "        styledict[cell['nuts_id']][key] = {\n",
    "            'color': colors[step['elevation_category']],\n",
    "            'opacity': 1,\n",
    "            'cat': step['elevation_category'],\n",
    "            'elevation': step['elevation'],\n",
    "            'time': step['time']\n",
    "        }\n",
    "\n",
    "        # e = step['elevation']\n",
    "        # if e < -6:\n",
    "        #     color = 'black'\n",
    "        # elif e < 0: #\n",
    "        #     color = \"#5238a7\"\n",
    "        # elif e < 6:\n",
    "        #     color = \"#764bc5\"\n",
    "        # elif e < 12:\n",
    "        #     color = \"#976acd\"\n",
    "        # elif e < 18:\n",
    "        #     color = \"#b48ad1\"\n",
    "        # else:\n",
    "        #     color = \"#e1cde1\"\n",
    "\n",
    "\n",
    "        # styledict[cell['nuts_id']][key] = {\n",
    "        #     'color': color,\n",
    "        #     'opacity': 1\n",
    "        # }\n"
   ]
  },
  {
   "cell_type": "code",
   "execution_count": 20,
   "metadata": {},
   "outputs": [],
   "source": [
    "import folium\n",
    "from folium.plugins import TimeSliderChoropleth\n",
    "\n",
    "m = folium.Map()\n",
    "\n",
    "gdf = gdf_grid.set_index('NUTS_ID')\n",
    "\n",
    "TimeSliderChoropleth(\n",
    "    gdf.to_json(default=str),\n",
    "    styledict=styledict,\n",
    "    init_timestamp=0,\n",
    "    stroke_width=0,\n",
    "    date_options='HH:mm'\n",
    "\n",
    ").add_to(m)\n",
    "\n",
    "\n",
    "m.fit_bounds([[34.615, -10.334], [71.114, 34.5896]])\n",
    "\n",
    "m.save(consts.PATH_DOCS / 'sunrise-hex-hourly.html')"
   ]
  },
  {
   "cell_type": "code",
   "execution_count": null,
   "metadata": {},
   "outputs": [],
   "source": []
  }
 ],
 "metadata": {
  "kernelspec": {
   "display_name": "env",
   "language": "python",
   "name": "python3"
  },
  "language_info": {
   "codemirror_mode": {
    "name": "ipython",
    "version": 3
   },
   "file_extension": ".py",
   "mimetype": "text/x-python",
   "name": "python",
   "nbconvert_exporter": "python",
   "pygments_lexer": "ipython3",
   "version": "3.12.7"
  }
 },
 "nbformat": 4,
 "nbformat_minor": 2
}
