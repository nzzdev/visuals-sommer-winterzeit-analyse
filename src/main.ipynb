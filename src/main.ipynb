{
 "cells": [
  {
   "cell_type": "markdown",
   "metadata": {},
   "source": [
    "# Tests"
   ]
  },
  {
   "cell_type": "code",
   "execution_count": 62,
   "metadata": {},
   "outputs": [],
   "source": [
    "import pandas as pd\n",
    "import geopandas as gpd\n",
    "from pathlib import Path\n",
    "from astral import Observer\n",
    "from astral.sun import sun\n",
    "from astral import LocationInfo\n",
    "from datetime import date\n",
    "from timezonefinder import TimezoneFinder"
   ]
  },
  {
   "cell_type": "markdown",
   "metadata": {},
   "source": [
    "## Defines"
   ]
  },
  {
   "cell_type": "code",
   "execution_count": 2,
   "metadata": {},
   "outputs": [],
   "source": [
    "path_nuts = Path('../data/nuts3/NUTS_RG_20M_2024_4326.geojson')"
   ]
  },
  {
   "cell_type": "markdown",
   "metadata": {},
   "source": [
    "## Import Data"
   ]
  },
  {
   "cell_type": "code",
   "execution_count": null,
   "metadata": {},
   "outputs": [],
   "source": [
    "gpd_nuts = gpd.read_file(path_nuts)\n",
    "gpd_nuts = gpd_nuts[gpd_nuts.LEVL_CODE == 3]"
   ]
  },
  {
   "cell_type": "markdown",
   "metadata": {},
   "source": [
    "# Add Timezone"
   ]
  },
  {
   "cell_type": "code",
   "execution_count": 74,
   "metadata": {},
   "outputs": [],
   "source": [
    "tf = TimezoneFinder()\n",
    "\n",
    "# Add timezone information to the GeoDataFrame\n",
    "gpd_nuts['timezone'] = gpd_nuts.apply(\n",
    "    lambda row: tf.timezone_at(lat=row.geometry.centroid.y, lng=row.geometry.centroid.x), axis=1\n",
    ")\n"
   ]
  },
  {
   "cell_type": "markdown",
   "metadata": {},
   "source": [
    "## Calculate\n",
    "* earliest sunrise WITH dls and WITHOUTH\n",
    "DLS: Zeitumstellung überall gleich? Ohne DLS = Sommerzeit oder Winterthur?"
   ]
  },
  {
   "cell_type": "code",
   "execution_count": 31,
   "metadata": {},
   "outputs": [
    {
     "data": {
      "text/plain": [
       "{'dawn': datetime.datetime(2025, 2, 26, 5, 40, 21, 343511, tzinfo=datetime.timezone.utc),\n",
       " 'sunrise': datetime.datetime(2025, 2, 26, 6, 11, 49, 339521, tzinfo=datetime.timezone.utc),\n",
       " 'noon': datetime.datetime(2025, 2, 26, 11, 38, 46, tzinfo=datetime.timezone.utc),\n",
       " 'sunset': datetime.datetime(2025, 2, 26, 17, 6, 18, 958156, tzinfo=datetime.timezone.utc),\n",
       " 'dusk': datetime.datetime(2025, 2, 26, 17, 37, 49, 932562, tzinfo=datetime.timezone.utc)}"
      ]
     },
     "execution_count": 31,
     "metadata": {},
     "output_type": "execute_result"
    }
   ],
   "source": [
    "location = Observer(47.37582394903388, 8.534712359683699)\n",
    "\n",
    "# Define the date\n",
    "specific_date = date(2025, 2, 26)\n",
    "s = sun(location, date=specific_date, )\n",
    "s"
   ]
  },
  {
   "cell_type": "code",
   "execution_count": null,
   "metadata": {},
   "outputs": [],
   "source": []
  }
 ],
 "metadata": {
  "kernelspec": {
   "display_name": "env",
   "language": "python",
   "name": "python3"
  },
  "language_info": {
   "codemirror_mode": {
    "name": "ipython",
    "version": 3
   },
   "file_extension": ".py",
   "mimetype": "text/x-python",
   "name": "python",
   "nbconvert_exporter": "python",
   "pygments_lexer": "ipython3",
   "version": "3.12.7"
  }
 },
 "nbformat": 4,
 "nbformat_minor": 2
}
