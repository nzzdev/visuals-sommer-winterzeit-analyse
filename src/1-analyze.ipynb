{
 "cells": [
  {
   "cell_type": "markdown",
   "metadata": {},
   "source": [
    "# Analyze "
   ]
  },
  {
   "cell_type": "code",
   "execution_count": 70,
   "metadata": {},
   "outputs": [],
   "source": [
    "import pandas as pd\n",
    "import geopandas as gpd\n",
    "from pathlib import Path\n",
    "import datetime\n",
    "import json\n",
    "import folium\n",
    "import utils"
   ]
  },
  {
   "cell_type": "markdown",
   "metadata": {},
   "source": [
    "## Defines"
   ]
  },
  {
   "cell_type": "code",
   "execution_count": 2,
   "metadata": {},
   "outputs": [],
   "source": [
    "path_nuts = Path('../export/masternuts.gpkg')\n",
    "path_timedata = Path('../export/timedata.json')\n",
    "path_docs = Path('../docs')"
   ]
  },
  {
   "cell_type": "markdown",
   "metadata": {},
   "source": [
    "## Load data"
   ]
  },
  {
   "cell_type": "code",
   "execution_count": 3,
   "metadata": {},
   "outputs": [],
   "source": [
    "# Load timedata\n",
    "time_data = json.load(open(path_timedata, 'r', encoding='utf-8'))\n",
    "\n",
    "# Load Nuts3\n",
    "gpd_nuts_raw = gpd.read_file(path_nuts)\n",
    "\n",
    "# Redice precision\n",
    "gpd_nuts_raw['geometry'] = gpd_nuts_raw['geometry'].apply(lambda geom: geom.simplify(tolerance=0.01))"
   ]
  },
  {
   "cell_type": "markdown",
   "metadata": {},
   "source": [
    "## Experiment!"
   ]
  },
  {
   "cell_type": "code",
   "execution_count": 112,
   "metadata": {},
   "outputs": [],
   "source": [
    "# Serialize JSON\n",
    "df_timedata = list(map(lambda x: {\n",
    "    'nuts_id': x['nuts_id'],\n",
    "    'name': x['name'],\n",
    "    'earliest_sunrise_current_dt': x['sunrise']['current']['earliest'],\n",
    "    'earliest_sunrise_summertime': x['sunrise']['summer']['earliest'],\n",
    "    'earliest_sunrise_wintertime': x['sunrise']['winter']['earliest'],\n",
    "}, time_data))\n",
    "\n",
    "df_timedata = pd.DataFrame(df_timedata)\n",
    "\n",
    "# Convert current to only time like the others\n",
    "def dt_to_time(dt):\n",
    "    dt = datetime.datetime.strptime(dt.split('+')[0], '%Y-%m-%d %H:%M:%S.%f')\n",
    "    return dt.time()\n",
    "\n",
    "def time_to_time(dt):\n",
    "    return datetime.datetime.strptime(dt, '%H:%M:%S.%f').time()\n",
    "\n",
    "# Convert strings to time\n",
    "df_timedata['earliest_sunrise_current'] = df_timedata['earliest_sunrise_current_dt'].apply(dt_to_time)\n",
    "df_timedata['earliest_sunrise_summertime'] = df_timedata['earliest_sunrise_summertime'].apply(time_to_time)\n",
    "df_timedata['earliest_sunrise_wintertime'] = df_timedata['earliest_sunrise_wintertime'].apply(time_to_time)\n",
    "\n",
    "# Calculate difference between time_reference and given time\n",
    "def calculate_difference_to_timereference(dt, time_reference):\n",
    "    diff = datetime.datetime.combine(datetime.date.min, dt) - datetime.datetime.combine(datetime.date.min, time_reference)\n",
    "    return round(diff.total_seconds() / 60)\n",
    "\n",
    "def categorize_time_to_half_hour(dt):\n",
    "    h = dt.hour\n",
    "    if dt.minute < 30:\n",
    "        return h\n",
    "        return f\"{h:02d}:00 - {h:02d}:30\"\n",
    "    else:\n",
    "        return h + 0.5\n",
    "        return f\"{h:02d}:30 - {h+1:02d}:00\"\n",
    "\n",
    "df_timedata['earliest_sunrise_current_category'] = df_timedata['earliest_sunrise_current'].apply(\n",
    "    categorize_time_to_half_hour\n",
    ")\n",
    "\n",
    "# df_timedata['earliest_sunrise_summertime_n'] = df_timedata['earliest_sunrise_summertime'].apply(\n",
    "#     calculate_difference_to_timereference,\n",
    "#     args=(df_timedata[df_timedata.name == 'Zürich'].iloc[0]['earliest_sunrise_summertime'],)\n",
    "# )\n",
    "\n",
    "# df_timedata['earliest_sunrise_wintertime_n'] = df_timedata['earliest_sunrise_wintertime'].apply(\n",
    "#     calculate_difference_to_timereference,\n",
    "#     args=(df_timedata[df_timedata.name == 'Zürich'].iloc[0]['earliest_sunrise_wintertime'],)\n",
    "# )\n",
    "\n",
    "# Merge Dataframes\n",
    "gpd_nuts = gpd_nuts_raw.merge(df_timedata, left_on='NUTS_ID', right_on='nuts_id')"
   ]
  },
  {
   "cell_type": "code",
   "execution_count": 40,
   "metadata": {},
   "outputs": [],
   "source": [
    "#gpd_nuts = gpd_nuts_raw.merge(df_timedata, left_on='NUTS_ID', right_on='nuts_id')\n",
    "\n",
    "# Plot the filtered data\n",
    "#gpd_nuts.plot(column='earliest_sunrise_current_n', cmap='RdBu')"
   ]
  },
  {
   "cell_type": "code",
   "execution_count": null,
   "metadata": {},
   "outputs": [],
   "source": [
    "m = folium.Map(\n",
    "    # tiles=\"cartodbpositron\",\n",
    "    tiles=None,\n",
    "    # tiles=\"Cartodb dark_matter\",\n",
    "    prefer_canvas=True\n",
    ")\n",
    "\n",
    "# Create bins evenly distributed with 0 in the center\n",
    "# min_value = gpd_nuts['earliest_sunrise_current_n'].min() - 1\n",
    "# max_value = gpd_nuts['earliest_sunrise_current_n'].max() + 1\n",
    "# bins = list(range(min_value, max_value + 1, (max_value - min_value) // 10))\n",
    "# bins = sorted(set(bins + [-2,0, 2]))  # Ensure 0 is included and bins are unique and sorted\n",
    "\n",
    "def add_choropleth(name, field, popup_fields):\n",
    "\n",
    "    cp = folium.Choropleth(\n",
    "        geo_data=gpd_nuts.to_json(default=str),\n",
    "        name=name,\n",
    "        data=df_timedata,\n",
    "        columns=[\"nuts_id\", field],\n",
    "        key_on=\"feature.properties.NUTS_ID\",\n",
    "        fill_color=\"Greys\",\n",
    "        fill_opacity=1,\n",
    "        line_opacity=0.2,\n",
    "        # bins=bins,\n",
    "        bins = 10,\n",
    "        overlay=True,\n",
    "    ).add_to(m)\n",
    "\n",
    "\n",
    "    folium.GeoJsonTooltip([\"name\"] + popup_fields).add_to(cp.geojson)    \n",
    "\n",
    "add_choropleth(\"Aktuelles System\", 'earliest_sunrise_current_category', ['earliest_sunrise_current', 'earliest_sunrise_current_category'])\n",
    "# add_choropleth(\"Sommerzeit\", 'earliest_sunrise_summertime_n', ['earliest_sunrise_summertime', 'earliest_sunrise_summertime_n'])\n",
    "# add_choropleth(\"Winterzeit\", 'earliest_sunrise_wintertime_n', ['earliest_sunrise_wintertime', 'earliest_sunrise_wintertime_n'])\n",
    "\n",
    "m.fit_bounds(m.get_bounds())\n",
    "\n",
    "folium.LayerControl(collapsed=False).add_to(m)\n",
    "\n",
    "# Add Title\n",
    "# utils.addTitle(m, \"Velounfälle (alle), nach Region geclustered\")\n",
    "\n",
    "m.save(path_docs / 'map.html')\n"
   ]
  },
  {
   "cell_type": "code",
   "execution_count": 52,
   "metadata": {},
   "outputs": [
    {
     "data": {
      "text/plain": [
       "[-132, -110, -88, -66, -44, -22, 0, 22, 44, 66, 88]"
      ]
     },
     "execution_count": 52,
     "metadata": {},
     "output_type": "execute_result"
    }
   ],
   "source": [
    "bins"
   ]
  },
  {
   "cell_type": "code",
   "execution_count": null,
   "metadata": {},
   "outputs": [],
   "source": []
  },
  {
   "cell_type": "code",
   "execution_count": null,
   "metadata": {},
   "outputs": [],
   "source": []
  },
  {
   "cell_type": "code",
   "execution_count": 30,
   "metadata": {},
   "outputs": [],
   "source": [
    "test = gpd_nuts_raw.copy()\n",
    "test['geometry'] = test['geometry'].apply(lambda geom: geom.simplify(tolerance=0.01))\n",
    "\n",
    "with open('test.txt', 'w') as f:\n",
    "    f.write(test.to_json())"
   ]
  },
  {
   "cell_type": "code",
   "execution_count": null,
   "metadata": {},
   "outputs": [],
   "source": []
  }
 ],
 "metadata": {
  "kernelspec": {
   "display_name": "env",
   "language": "python",
   "name": "python3"
  },
  "language_info": {
   "codemirror_mode": {
    "name": "ipython",
    "version": 3
   },
   "file_extension": ".py",
   "mimetype": "text/x-python",
   "name": "python",
   "nbconvert_exporter": "python",
   "pygments_lexer": "ipython3",
   "version": "3.12.7"
  }
 },
 "nbformat": 4,
 "nbformat_minor": 2
}
