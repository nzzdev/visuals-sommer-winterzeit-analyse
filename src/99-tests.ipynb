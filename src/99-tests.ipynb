{
 "cells": [
  {
   "cell_type": "markdown",
   "metadata": {},
   "source": [
    "# Some code to check a random sample"
   ]
  },
  {
   "cell_type": "code",
   "execution_count": null,
   "metadata": {},
   "outputs": [],
   "source": [
    "from astral import Observer\n",
    "from astral.sun import sun\n",
    "from astral.location import Location, LocationInfo\n",
    "from datetime import datetime, timedelta\n",
    "import pytz"
   ]
  },
  {
   "cell_type": "code",
   "execution_count": null,
   "metadata": {},
   "outputs": [],
   "source": [
    "dates = [datetime(2025, 1, 1) + timedelta(days=x) for x in range(365)]"
   ]
  },
  {
   "cell_type": "code",
   "execution_count": null,
   "metadata": {},
   "outputs": [],
   "source": [
    "local_tz = pytz.timezone(\"Europe/Oslo\")\n",
    "dt = datetime(2025, 1, 4, 8, 30)\n",
    "# dt = datetime(2025, 10, 25, 8, 30)\n",
    "dt = local_tz.localize(dt)\n",
    "\n",
    "x = 63.5183\n",
    "y = 10.3139\n",
    "\n",
    "location = LocationInfo(None, None, None, x, y)\n",
    "\n",
    "l = Location(location)\n",
    "e = l.solar_elevation(dt)\n",
    "e"
   ]
  },
  {
   "cell_type": "code",
   "execution_count": null,
   "metadata": {},
   "outputs": [],
   "source": [
    "local_tz = pytz.timezone(\"Europe/Athens\")\n",
    "# dt = datetime(2025, 1, 4, 8, 30)\n",
    "dt = datetime(2025, 10, 25, 8, 30)\n",
    "dt = local_tz.localize(dt)\n",
    "\n",
    "x = 38.70305348749065\n",
    "y = 21.60567212232599\n",
    "\n",
    "location = Observer(x, y)\n",
    "\n",
    "s = sun(location, date=dt)\n",
    "s\n"
   ]
  },
  {
   "cell_type": "markdown",
   "metadata": {
    "vscode": {
     "languageId": "plaintext"
    }
   },
   "source": [
    "### Latest sunrise per year"
   ]
  },
  {
   "cell_type": "code",
   "execution_count": null,
   "metadata": {},
   "outputs": [],
   "source": [
    "h_s = \"\"\n",
    "h_i = 10000\n",
    "\n",
    "local_tz = pytz.timezone(\"Europe/Rome\")\n",
    "x, y = 45.0979, 10.3193\n",
    "\n",
    "location = Observer(x, y)\n",
    "\n",
    "l = Location(location)\n",
    "\n",
    "sunrise_for_day = []\n",
    "for date in dates:\n",
    "    dt = local_tz.localize(date)\n",
    "\n",
    "    try:\n",
    "        s = sun(location, date=dt)\n",
    "        sunrise = s['sunrise']\n",
    "        if not sunrise.dst():\n",
    "            sunrise += timedelta(hours=1)\n",
    "\n",
    "        sunrise_for_day.append(sunrise)\n",
    "    except: pass\n",
    "\n",
    "\n",
    "max(sunrise_for_day, key=lambda x: x.time())"
   ]
  },
  {
   "cell_type": "markdown",
   "metadata": {},
   "source": [
    "### Lowerst Sunposition for specific time"
   ]
  },
  {
   "cell_type": "code",
   "execution_count": null,
   "metadata": {},
   "outputs": [],
   "source": [
    "h_s = \"\"\n",
    "h_i = 10000\n",
    "\n",
    "local_tz = pytz.timezone(\"Europe/Rome\")\n",
    "x, y = 45.1238,10.6952\n",
    "\n",
    "location = LocationInfo(None, None, None, x, y)\n",
    "\n",
    "l = Location(location)\n",
    "\n",
    "kalax = []\n",
    "\n",
    "for date in dates:\n",
    "    dt = local_tz.localize(date)\n",
    "\n",
    "    dt = dt + timedelta(hours=20, minutes=30)\n",
    "\n",
    "    # Ständig Winterzeit\n",
    "    # if dt.dst():\n",
    "    #     dt += timedelta(hours=1)\n",
    "\n",
    "    # Ständig Sommerzeit\n",
    "    if not dt.dst():\n",
    "        dt -= timedelta(hours=1)\n",
    "\n",
    "    e = l.solar_elevation(dt)\n",
    "\n",
    "    kalax.append({\n",
    "        'date': dt,\n",
    "        'elevation': round(e, 1)\n",
    "    })\n",
    "\n",
    "    if e < h_i:\n",
    "        h_i = e\n",
    "        h_s = dt\n",
    "\n",
    "kalax.sort(key=lambda x: x['elevation'])\n",
    "kalax[0]"
   ]
  }
 ],
 "metadata": {
  "language_info": {
   "name": "python"
  }
 },
 "nbformat": 4,
 "nbformat_minor": 2
}
