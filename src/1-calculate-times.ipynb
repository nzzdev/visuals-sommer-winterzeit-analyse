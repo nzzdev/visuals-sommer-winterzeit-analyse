{
 "cells": [
  {
   "cell_type": "markdown",
   "metadata": {},
   "source": [
    "# Calculate Sunset and Sunrise\n",
    "Welcome to this ugly notebook! What you find here: Calculates the earliest and latest sunrise and sunset for:\n",
    "- the current year\n",
    "- if everything was in wintertime\n",
    "- if everything was in summertime\n",
    "\n",
    "Earliest sunrise is not during longest day. There may be a fancy formula to calculate this. We go bruth force. So we calculate the sunrise and sunset for each day in year 2025 and find the corresponding entry."
   ]
  },
  {
   "cell_type": "code",
   "execution_count": 6,
   "metadata": {},
   "outputs": [],
   "source": [
    "import pandas as pd\n",
    "import geopandas as gpd\n",
    "from pathlib import Path\n",
    "from astral import Observer\n",
    "from astral.sun import sun\n",
    "from astral.location import Location, LocationInfo\n",
    "from datetime import datetime, timedelta\n",
    "from dateutil.relativedelta import relativedelta\n",
    "import pytz\n",
    "from tqdm import tqdm\n",
    "import json\n",
    "import consts"
   ]
  },
  {
   "cell_type": "markdown",
   "metadata": {},
   "source": [
    "## Define"
   ]
  },
  {
   "cell_type": "code",
   "execution_count": 7,
   "metadata": {},
   "outputs": [],
   "source": [
    "USE_GRID = 'hex'"
   ]
  },
  {
   "cell_type": "markdown",
   "metadata": {},
   "source": [
    "## Import Data"
   ]
  },
  {
   "cell_type": "code",
   "execution_count": 8,
   "metadata": {},
   "outputs": [],
   "source": [
    "if USE_GRID == 'nuts':\n",
    "    gdf_grid = gpd.read_file(consts.PATH_MASTERNUTS)\n",
    "    gdf_grid['geometry'] = gdf_grid['geometry'].apply(lambda geom: geom.simplify(tolerance=0.01))\n",
    "    PATH_TIMEDATA = consts.PATH_TIMEDATA_NUTS\n",
    "elif USE_GRID == 'hex':\n",
    "    gdf_grid = gpd.read_file(consts.PATH_HEXAGON)\n",
    "    PATH_TIMEDATA = consts.PATH_TIMEDATA_HEX\n",
    "else:\n",
    "    raise ValueError(f\"Unknown grid type {USE_GRID}\")"
   ]
  },
  {
   "cell_type": "markdown",
   "metadata": {},
   "source": [
    "## Helpers"
   ]
  },
  {
   "cell_type": "code",
   "execution_count": 9,
   "metadata": {},
   "outputs": [],
   "source": [
    "def transform_date_to_winter_summer_time(dt, local_tz):\n",
    "\n",
    "    datetime_local = dt.astimezone(local_tz)\n",
    "\n",
    "    datetime_winter = datetime_local.time()\n",
    "    datetime_summer = datetime_local.time()\n",
    "    if bool(datetime_local.dst()):\n",
    "        datetime_winter = (datetime_local - timedelta(hours=1)).time()\n",
    "    else:\n",
    "        datetime_summer = (datetime_local + timedelta(hours=1)).time()\n",
    "\n",
    "    return {\n",
    "            'utc': dt,\n",
    "            'local': datetime_local,\n",
    "            'time_winter': datetime_winter,\n",
    "            'time_summer': datetime_summer,\n",
    "        }\n",
    "\n",
    "def find_earliest_and_latest_in_list(suns_per_day, event, timeperiod):\n",
    "    return {\n",
    "            'earliest': min(suns_per_day[event], key=lambda x: x[timeperiod])[timeperiod],\n",
    "            'earliest_day': min(suns_per_day[event], key=lambda x: x[timeperiod])['local'].date(),\n",
    "            'latest': max(suns_per_day[event], key=lambda x: x[timeperiod])[timeperiod],\n",
    "            'latest_day': max(suns_per_day[event], key=lambda x: x[timeperiod])['local'].date()\n",
    "        }"
   ]
  },
  {
   "cell_type": "markdown",
   "metadata": {},
   "source": [
    "## Calculate Time of Sunrise and Sunset"
   ]
  },
  {
   "cell_type": "code",
   "execution_count": 10,
   "metadata": {},
   "outputs": [
    {
     "name": "stderr",
     "output_type": "stream",
     "text": [
      "100%|██████████| 6247/6247 [01:16<00:00, 82.18it/s]\n"
     ]
    }
   ],
   "source": [
    "# Get all possible dates from 2025\n",
    "dates = [datetime(2025, 1, 1) + timedelta(days=x) for x in range(365)]\n",
    "\n",
    "timedata = []\n",
    "\n",
    "with tqdm(total=len(gdf_grid)) as pbar:\n",
    "    for i, row in gdf_grid.iterrows():\n",
    "\n",
    "        pbar.update()\n",
    "\n",
    "        location = Observer(row.geometry.centroid.y, row.geometry.centroid.x)\n",
    "\n",
    "        # Earliest sunrise is not the same as the longest day. We need to calculate\n",
    "        # the earliest day. We could do that the proper way. Or we could just bruth\n",
    "        # force it. You know what we are gonna do..?\n",
    "        suns_per_day = {\n",
    "            'sunrise': [],\n",
    "            'sunset': []\n",
    "        }\n",
    "\n",
    "        local_tz = pytz.timezone(row.timezone)\n",
    "\n",
    "        # Add this when testing own timezones\n",
    "        # x = row.geometry.centroid.x\n",
    "        # if x < -7.5:\n",
    "        #     tz = -60\n",
    "        # elif x < 7.5:\n",
    "        #     tz = 0\n",
    "        # elif x < 22.5:\n",
    "        #     tz = 60\n",
    "        # else:\n",
    "        #     tz = 120\n",
    "        # local_tz = pytz.FixedOffset(tz)\n",
    "\n",
    "        for d in dates:\n",
    "            try:\n",
    "                s = sun(location, date=d)\n",
    "                suns_per_day['sunrise'].append(transform_date_to_winter_summer_time(s['sunrise'], local_tz))\n",
    "                suns_per_day['sunset'].append(transform_date_to_winter_summer_time(s['sunset'], local_tz))\n",
    "            except ValueError:\n",
    "                pass\n",
    "\n",
    "        # Now get the earliest sunrise for winter and summer time\n",
    "        record = {\n",
    "            'nuts_id': row['NUTS_ID'],\n",
    "            'name': row['NAME_LATN'] if 'NAME_LATN' in row else 'hex',\n",
    "            'timezone': str(local_tz),\n",
    "            'sunrise': {\n",
    "                'summer': find_earliest_and_latest_in_list(suns_per_day, 'sunrise', 'time_summer'),\n",
    "                'winter': find_earliest_and_latest_in_list(suns_per_day, 'sunrise', 'time_winter'),\n",
    "                'current': {\n",
    "                    'earliest': min(suns_per_day['sunrise'], key=lambda x: x['local'].time())['local'].time(),\n",
    "                    'earliest_day': min(suns_per_day['sunrise'], key=lambda x: x['local'].time())['local'].date(),\n",
    "                    'latest': max(suns_per_day['sunrise'], key=lambda x: x['local'].time())['local'].time(),\n",
    "                    'latest_day': max(suns_per_day['sunrise'], key=lambda x: x['local'].time())['local'].date()\n",
    "                }\n",
    "            },\n",
    "            'sunset': {\n",
    "                'summer': find_earliest_and_latest_in_list(suns_per_day, 'sunset', 'time_summer'),\n",
    "                'winter': find_earliest_and_latest_in_list(suns_per_day, 'sunset', 'time_winter'),\n",
    "                'current': {\n",
    "                    'earliest': min(suns_per_day['sunset'], key=lambda x: x['local'].time())['local'].time(),\n",
    "                    'earliest_day': min(suns_per_day['sunset'], key=lambda x: x['local'].time())['local'].date(),\n",
    "                    'latest': max(suns_per_day['sunset'], key=lambda x: x['local'].time())['local'].time(),\n",
    "                    'latest_day': max(suns_per_day['sunset'], key=lambda x: x['local'].time())['local'].date()\n",
    "                }\n",
    "            }\n",
    "        }\n",
    "\n",
    "        timedata.append(record)\n",
    "\n",
    "# Store\n",
    "json.dump(timedata, open(PATH_TIMEDATA, 'w', encoding='UTF-8'), ensure_ascii=False, indent=2, default=str)"
   ]
  },
  {
   "cell_type": "markdown",
   "metadata": {},
   "source": [
    "## Calculate amount of light at certain hours"
   ]
  },
  {
   "cell_type": "code",
   "execution_count": null,
   "metadata": {},
   "outputs": [
    {
     "name": "stderr",
     "output_type": "stream",
     "text": [
      "100%|██████████| 6247/6247 [03:46<00:00, 27.64it/s]\n"
     ]
    }
   ],
   "source": [
    "from zoneinfo import ZoneInfo  # Python 3.9+\n",
    "timedata_hourly = []\n",
    "\n",
    "def calculate_hours_for_event(location, local_tz):\n",
    "    records = []\n",
    "    # loop time\n",
    "    \n",
    "    for hour in range(6, 14):\n",
    "        for minute in [0, 30]:\n",
    "\n",
    "            day_records = []\n",
    "\n",
    "            # Find lowest sun elevation in all days.\n",
    "            for day in dates:\n",
    "\n",
    "                dt = day.replace(hour=hour, minute=minute, tzinfo=local_tz)\n",
    "\n",
    "                # if DST is active, we need to adjust the time\n",
    "                # if dt.dst():\n",
    "                #     dt -= timedelta(hours=1)\n",
    "                    \n",
    "                # # Calculate sunrise\n",
    "                elevation = location.solar_elevation(dt)\n",
    "                elevation_category = ''\n",
    "                if elevation < -6:\n",
    "                    elevation_category = 'night'\n",
    "                elif elevation < 0:\n",
    "                    elevation_category = 'dawn'\n",
    "                elif elevation < 6:\n",
    "                    elevation_category = 'sunrise'\n",
    "                else:\n",
    "                    elevation_category = 'day'\n",
    "\n",
    "                day_records.append({\n",
    "                    'time': f\"{hour:02}:{minute:02}\",\n",
    "                    'elevation_category': elevation_category,\n",
    "                    'elevation': round(elevation, 1),\n",
    "                    'day': dt\n",
    "                })    \n",
    "\n",
    "            # Now find the lowest elevation\n",
    "            day_records.sort(key=lambda x: x['elevation'])\n",
    "            records.append(day_records[0])\n",
    "            \n",
    "\n",
    "    return records\n",
    "\n",
    "\n",
    "with tqdm(total=len(gdf_grid)) as pbar:\n",
    "    for cell in timedata:\n",
    "\n",
    "        pbar.update()\n",
    "\n",
    "        # if cell['nuts_id'] != 2072:\n",
    "        #     continue\n",
    "\n",
    "        # local_tz = pytz.timezone(cell['timezone'])\n",
    "        local_tz = ZoneInfo(cell['timezone'])\n",
    "\n",
    "        # Get Grid Cell and Location Object\n",
    "        grid_cell = gdf_grid[gdf_grid.NUTS_ID == cell['nuts_id']].iloc[0]\n",
    "        x = grid_cell.geometry.centroid.y\n",
    "        y = grid_cell.geometry.centroid.x  \n",
    "        location = Location(LocationInfo(None, None, None, x, y))\n",
    "\n",
    "        record = {\n",
    "            'nuts_id': cell['nuts_id'],\n",
    "            'sunrise': {\n",
    "                'current': {\n",
    "                    'latest': calculate_hours_for_event(location, local_tz)\n",
    "                },\n",
    "                # 'winter': {\n",
    "                #     'latest': calculate_hours_for_event(cell['sunrise']['winter']['latest_day'], local_tz)\n",
    "                # },\n",
    "                # 'summer': {\n",
    "                #     'latest': calculate_hours_for_event(cell['sunrise']['summer']['latest_day'], local_tz)\n",
    "                # }\n",
    "            },\n",
    "            # 'sunset': {\n",
    "            #     'current': {\n",
    "            #         'earliest': calculate_hours_for_event(cell['sunset']['current']['earliest_day'], local_tz)\n",
    "            #     },\n",
    "            #     'winter': {\n",
    "            #         'earliest': calculate_hours_for_event(cell['sunset']['winter']['earliest_day'], local_tz)\n",
    "            #     },\n",
    "            #     'summer': {\n",
    "            #         'earliest': calculate_hours_for_event(cell['sunset']['summer']['earliest_day'], local_tz)\n",
    "            #     }\n",
    "            # }\n",
    "        }\n",
    "\n",
    "        timedata_hourly.append(record)\n",
    "\n",
    "# Store\n",
    "json.dump(timedata_hourly, open(consts.PATH_TIMEDATA_HOURLY_HEX, 'w', encoding='UTF-8'), ensure_ascii=False, indent=2, default=str)"
   ]
  },
  {
   "cell_type": "markdown",
   "metadata": {},
   "source": [
    "## Example"
   ]
  },
  {
   "cell_type": "code",
   "execution_count": 49,
   "metadata": {},
   "outputs": [
    {
     "data": {
      "text/plain": [
       "5.62188698721711"
      ]
     },
     "execution_count": 49,
     "metadata": {},
     "output_type": "execute_result"
    }
   ],
   "source": [
    "\n",
    "local_tz = pytz.timezone(\"Europe/Athens\")\n",
    "dt = datetime(2025, 1, 4, 8, 30)\n",
    "# dt = datetime(2025, 10, 25, 8, 30)\n",
    "dt = local_tz.localize(dt)\n",
    "\n",
    "x = 38.70305348749065\n",
    "y = 21.60567212232599\n",
    "\n",
    "location = LocationInfo(None, None, None, x, y)\n",
    "\n",
    "l = Location(location)\n",
    "e = l.solar_elevation(dt)\n",
    "e"
   ]
  },
  {
   "cell_type": "code",
   "execution_count": 47,
   "metadata": {},
   "outputs": [
    {
     "data": {
      "text/plain": [
       "{'dawn': datetime.datetime(2025, 10, 25, 7, 25, 32, 389387, tzinfo=<DstTzInfo 'Europe/Athens' EEST+3:00:00 DST>),\n",
       " 'sunrise': datetime.datetime(2025, 10, 25, 7, 53, 15, 227043, tzinfo=<DstTzInfo 'Europe/Athens' EEST+3:00:00 DST>),\n",
       " 'noon': datetime.datetime(2025, 10, 25, 10, 17, 35, tzinfo=datetime.timezone.utc),\n",
       " 'sunset': datetime.datetime(2025, 10, 25, 18, 41, 23, 994252, tzinfo=<DstTzInfo 'Europe/Athens' EEST+3:00:00 DST>),\n",
       " 'dusk': datetime.datetime(2025, 10, 25, 19, 9, 5, 610408, tzinfo=<DstTzInfo 'Europe/Athens' EEST+3:00:00 DST>)}"
      ]
     },
     "execution_count": 47,
     "metadata": {},
     "output_type": "execute_result"
    }
   ],
   "source": [
    "local_tz = pytz.timezone(\"Europe/Athens\")\n",
    "# dt = datetime(2025, 1, 4, 8, 30)\n",
    "dt = datetime(2025, 10, 25, 8, 30)\n",
    "dt = local_tz.localize(dt)\n",
    "\n",
    "x = 38.70305348749065\n",
    "y = 21.60567212232599\n",
    "\n",
    "location = Observer(x, y)\n",
    "\n",
    "s = sun(location, date=dt)\n",
    "s\n"
   ]
  },
  {
   "cell_type": "code",
   "execution_count": null,
   "metadata": {},
   "outputs": [],
   "source": []
  },
  {
   "cell_type": "code",
   "execution_count": 93,
   "metadata": {},
   "outputs": [
    {
     "name": "stdout",
     "output_type": "stream",
     "text": [
      "6.2 2025-01-03 08:30:00+00:00\n"
     ]
    }
   ],
   "source": [
    "h_s = \"\"\n",
    "h_i = 10000\n",
    "\n",
    "local_tz = pytz.timezone(\"Europe/Lisbon\")\n",
    "\n",
    "x = 37.707\n",
    "y = -8.308\n",
    "\n",
    "location = LocationInfo(None, None, None, x, y)\n",
    "\n",
    "l = Location(location)\n",
    "\n",
    "for date in dates:\n",
    "    dt = local_tz.localize(date)\n",
    "    dt = dt + timedelta(hours=8, minutes=30)\n",
    "\n",
    "    e = l.solar_elevation(dt)\n",
    "\n",
    "    if e < h_i:\n",
    "        h_i = e\n",
    "        h_s = dt\n",
    "\n",
    "print(round(h_i, 1), h_s)\n"
   ]
  },
  {
   "cell_type": "code",
   "execution_count": null,
   "metadata": {},
   "outputs": [],
   "source": []
  }
 ],
 "metadata": {
  "kernelspec": {
   "display_name": "env",
   "language": "python",
   "name": "python3"
  },
  "language_info": {
   "codemirror_mode": {
    "name": "ipython",
    "version": 3
   },
   "file_extension": ".py",
   "mimetype": "text/x-python",
   "name": "python",
   "nbconvert_exporter": "python",
   "pygments_lexer": "ipython3",
   "version": "3.12.7"
  }
 },
 "nbformat": 4,
 "nbformat_minor": 2
}
