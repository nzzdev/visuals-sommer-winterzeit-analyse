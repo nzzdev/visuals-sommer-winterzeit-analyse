{
 "cells": [
  {
   "cell_type": "markdown",
   "metadata": {},
   "source": [
    "# Calculate Sunset and Sunrise\n",
    "Welcome to this ugly notebook! What you find here: Calculates the earliest and latest sunrise and sunset for:\n",
    "- the current year\n",
    "- if everything was in wintertime\n",
    "- if everything was in summertime\n",
    "\n",
    "Earliest sunrise is not during longest day. There may be a fancy formula to calculate this. We go bruth force. So we calculate the sunrise and sunset for each day in year 2025 and find the corresponding entry."
   ]
  },
  {
   "cell_type": "code",
   "execution_count": 1,
   "metadata": {},
   "outputs": [],
   "source": [
    "import pandas as pd\n",
    "import geopandas as gpd\n",
    "from pathlib import Path\n",
    "from astral import Observer\n",
    "from astral.sun import sun\n",
    "from astral.location import Location, LocationInfo\n",
    "from datetime import datetime, timedelta\n",
    "from dateutil.relativedelta import relativedelta\n",
    "from zoneinfo import ZoneInfo\n",
    "import pytz\n",
    "from tqdm import tqdm\n",
    "import json\n",
    "import consts"
   ]
  },
  {
   "cell_type": "markdown",
   "metadata": {},
   "source": [
    "## Define"
   ]
  },
  {
   "cell_type": "code",
   "execution_count": 2,
   "metadata": {},
   "outputs": [],
   "source": [
    "USE_GRID = 'hex'"
   ]
  },
  {
   "cell_type": "markdown",
   "metadata": {},
   "source": [
    "## Import Data"
   ]
  },
  {
   "cell_type": "code",
   "execution_count": 3,
   "metadata": {},
   "outputs": [],
   "source": [
    "if USE_GRID == 'nuts':\n",
    "    gdf_grid = gpd.read_file(consts.PATH_MASTERNUTS)\n",
    "    gdf_grid['geometry'] = gdf_grid['geometry'].apply(lambda geom: geom.simplify(tolerance=0.01))\n",
    "    PATH_TIMEDATA = consts.PATH_TIMEDATA_NUTS\n",
    "elif USE_GRID == 'hex':\n",
    "    gdf_grid = gpd.read_file(consts.PATH_HEXAGON)\n",
    "    PATH_TIMEDATA = consts.PATH_TIMEDATA_HEX\n",
    "else:\n",
    "    raise ValueError(f\"Unknown grid type {USE_GRID}\")"
   ]
  },
  {
   "cell_type": "markdown",
   "metadata": {},
   "source": [
    "## Helpers"
   ]
  },
  {
   "cell_type": "code",
   "execution_count": 4,
   "metadata": {},
   "outputs": [],
   "source": [
    "def transform_date_to_winter_summer_time(dt, local_tz):\n",
    "\n",
    "    datetime_local = dt.astimezone(local_tz)\n",
    "\n",
    "    datetime_winter = datetime_local.time()\n",
    "    datetime_summer = datetime_local.time()\n",
    "    if bool(datetime_local.dst()):\n",
    "        datetime_winter = (datetime_local - timedelta(hours=1)).time()\n",
    "    else:\n",
    "        datetime_summer = (datetime_local + timedelta(hours=1)).time()\n",
    "\n",
    "    return {\n",
    "            'utc': dt,\n",
    "            'local': datetime_local,\n",
    "            'time_winter': datetime_winter,\n",
    "            'time_summer': datetime_summer,\n",
    "        }\n",
    "\n",
    "def find_earliest_and_latest_in_list(suns_per_day, event, timeperiod):\n",
    "    return {\n",
    "            'earliest': min(suns_per_day[event], key=lambda x: x[timeperiod])[timeperiod],\n",
    "            'earliest_day': min(suns_per_day[event], key=lambda x: x[timeperiod])['local'].date(),\n",
    "            'latest': max(suns_per_day[event], key=lambda x: x[timeperiod])[timeperiod],\n",
    "            'latest_day': max(suns_per_day[event], key=lambda x: x[timeperiod])['local'].date()\n",
    "        }"
   ]
  },
  {
   "cell_type": "markdown",
   "metadata": {},
   "source": [
    "## Calculate Time of Sunrise and Sunset"
   ]
  },
  {
   "cell_type": "code",
   "execution_count": 5,
   "metadata": {},
   "outputs": [
    {
     "name": "stderr",
     "output_type": "stream",
     "text": [
      "100%|██████████| 6838/6838 [01:30<00:00, 75.98it/s]\n"
     ]
    }
   ],
   "source": [
    "# Get all possible dates from 2025\n",
    "dates = [datetime(2025, 1, 1) + timedelta(days=x) for x in range(365)]\n",
    "\n",
    "timedata = []\n",
    "\n",
    "with tqdm(total=len(gdf_grid)) as pbar:\n",
    "    for i, row in gdf_grid.iterrows():\n",
    "\n",
    "        pbar.update()\n",
    "\n",
    "        location = Observer(row.geometry.centroid.y, row.geometry.centroid.x)\n",
    "\n",
    "        # Earliest sunrise is not the same as the longest day. We need to calculate\n",
    "        # the earliest day. We could do that the proper way. Or we could just bruth\n",
    "        # force it. You know what we are gonna do..?\n",
    "        suns_per_day = {\n",
    "            'sunrise': [],\n",
    "            'sunset': []\n",
    "        }\n",
    "\n",
    "        local_tz = pytz.timezone(row.timezone)\n",
    "\n",
    "        # Add this when testing own timezones\n",
    "        # x = row.geometry.centroid.x\n",
    "        # if x < -7.5:\n",
    "        #     tz = -60\n",
    "        # elif x < 7.5:\n",
    "        #     tz = 0\n",
    "        # elif x < 22.5:\n",
    "        #     tz = 60\n",
    "        # else:\n",
    "        #     tz = 120\n",
    "        # local_tz = pytz.FixedOffset(tz)\n",
    "\n",
    "        for d in dates:\n",
    "            try:\n",
    "                s = sun(location, date=d)\n",
    "                suns_per_day['sunrise'].append(transform_date_to_winter_summer_time(s['sunrise'], local_tz))\n",
    "                suns_per_day['sunset'].append(transform_date_to_winter_summer_time(s['sunset'], local_tz))\n",
    "            except ValueError:\n",
    "                pass\n",
    "\n",
    "        # Now get the earliest sunrise for winter and summer time\n",
    "        record = {\n",
    "            'nuts_id': row['NUTS_ID'],\n",
    "            'name': row['NAME_LATN'] if 'NAME_LATN' in row else 'hex',\n",
    "            'timezone': str(local_tz),\n",
    "            'sunrise': {\n",
    "                'summer': find_earliest_and_latest_in_list(suns_per_day, 'sunrise', 'time_summer'),\n",
    "                'winter': find_earliest_and_latest_in_list(suns_per_day, 'sunrise', 'time_winter'),\n",
    "                'current': {\n",
    "                    'earliest': min(suns_per_day['sunrise'], key=lambda x: x['local'].time())['local'].time(),\n",
    "                    'earliest_day': min(suns_per_day['sunrise'], key=lambda x: x['local'].time())['local'].date(),\n",
    "                    'latest': max(suns_per_day['sunrise'], key=lambda x: x['local'].time())['local'].time(),\n",
    "                    'latest_day': max(suns_per_day['sunrise'], key=lambda x: x['local'].time())['local'].date()\n",
    "                }\n",
    "            },\n",
    "            'sunset': {\n",
    "                'summer': find_earliest_and_latest_in_list(suns_per_day, 'sunset', 'time_summer'),\n",
    "                'winter': find_earliest_and_latest_in_list(suns_per_day, 'sunset', 'time_winter'),\n",
    "                'current': {\n",
    "                    'earliest': min(suns_per_day['sunset'], key=lambda x: x['local'].time())['local'].time(),\n",
    "                    'earliest_day': min(suns_per_day['sunset'], key=lambda x: x['local'].time())['local'].date(),\n",
    "                    'latest': max(suns_per_day['sunset'], key=lambda x: x['local'].time())['local'].time(),\n",
    "                    'latest_day': max(suns_per_day['sunset'], key=lambda x: x['local'].time())['local'].date()\n",
    "                }\n",
    "            }\n",
    "        }\n",
    "\n",
    "        timedata.append(record)\n",
    "\n",
    "# Store\n",
    "json.dump(timedata, open(PATH_TIMEDATA, 'w', encoding='UTF-8'), ensure_ascii=False, indent=2, default=str)"
   ]
  },
  {
   "cell_type": "markdown",
   "metadata": {},
   "source": [
    "## Calculate amount of light at certain hours"
   ]
  },
  {
   "cell_type": "code",
   "execution_count": 6,
   "metadata": {},
   "outputs": [
    {
     "name": "stderr",
     "output_type": "stream",
     "text": [
      "100%|██████████| 6838/6838 [23:57<00:00,  4.76it/s]\n"
     ]
    }
   ],
   "source": [
    "sample_date_range = pd.date_range('2025-01-01', '2025-12-31', freq='7D')\n",
    "timedata_hourly = []\n",
    "\n",
    "def calculate_sunrise_for_date(day, hour, minute, timeevent, location, local_tz):\n",
    "\n",
    "    dt = day.replace(hour=hour, minute=minute, tzinfo=local_tz)\n",
    "\n",
    "    if timeevent == 'winter':\n",
    "\n",
    "        # Remove DST\n",
    "        if dt.dst():\n",
    "            dt += timedelta(hours=1)\n",
    "\n",
    "    elif timeevent == 'summer':\n",
    "\n",
    "        # Add DST\n",
    "        if not dt.dst():\n",
    "            dt -= timedelta(hours=1)\n",
    "        \n",
    "    # Calculate sunrise\n",
    "    elevation = location.solar_elevation(dt)\n",
    "\n",
    "    return {\n",
    "        'time': f\"{hour:02}:{minute:02}\",\n",
    "        'elevation': round(elevation, 1),\n",
    "        'day': dt\n",
    "    }\n",
    "\n",
    "def calculate_sunrise_hours_for_event(location, local_tz, timeevent, earliest):\n",
    "    records = []\n",
    "    # loop time\n",
    "    \n",
    "    for hour in range(3, 15):\n",
    "        for minute in [0, 30]:\n",
    "\n",
    "            day_records = []\n",
    "\n",
    "            # First loop through sample dates (only one per week)\n",
    "            sample_results = []\n",
    "            for day in sample_date_range:\n",
    "                sample_results.append(calculate_sunrise_for_date(day, hour, minute, timeevent, location, local_tz))\n",
    "\n",
    "            # Find the lowest elevation\n",
    "            sample_results.sort(key=lambda x: x['elevation'])\n",
    "            if earliest:\n",
    "                sample_day = sample_results[-1]\n",
    "            else:\n",
    "                sample_day = sample_results[0]\n",
    "\n",
    "            more_granulare_dates = pd.date_range(sample_day['day'] - timedelta(days=8), sample_day['day'] + timedelta(days=8), freq='D')\n",
    "            more_granulare_dates = more_granulare_dates[(more_granulare_dates >= '2025-01-01') & (more_granulare_dates <= '2025-12-31')]\n",
    "\n",
    "            # Find lowest sun elevation in all days.\n",
    "            for day in more_granulare_dates:\n",
    "                day_records.append(calculate_sunrise_for_date(day, hour, minute, timeevent, location, local_tz))\n",
    "\n",
    "            # Now find the lowest elevation\n",
    "            day_records.sort(key=lambda x: x['elevation'])\n",
    "            if earliest:\n",
    "                records.append(day_records[-1])\n",
    "            else:\n",
    "                records.append(day_records[0])\n",
    "            \n",
    "\n",
    "    return records\n",
    "\n",
    "def calculate_sunset_for_date(day, hour, minute, timeevent, location, local_tz):\n",
    "\n",
    "    dt = day.replace(hour=hour, minute=minute, tzinfo=local_tz)\n",
    "\n",
    "    if timeevent == 'winter':\n",
    "\n",
    "        # Remove DST\n",
    "        if dt.dst():\n",
    "            dt += timedelta(hours=1)\n",
    "\n",
    "    elif timeevent == 'summer':\n",
    "\n",
    "        # Add DST\n",
    "        if not dt.dst():\n",
    "            dt -= timedelta(hours=1)\n",
    "\n",
    "    elif timeevent == 'current':\n",
    "        pass\n",
    "\n",
    "    else:\n",
    "        raise ValueError(f\"Unknown timeevent {timeevent}\")\n",
    "        \n",
    "    # Calculate sunrise\n",
    "    elevation = location.solar_elevation(dt)\n",
    "\n",
    "    return {\n",
    "        'time': f\"{hour:02}:{minute:02}\",\n",
    "        'elevation': round(elevation, 1),\n",
    "        'day': dt\n",
    "    }\n",
    "\n",
    "\n",
    "def calculate_sunset_hours_for_event(location, local_tz, timeevent, earliest):\n",
    "    records = []\n",
    "    # loop time\n",
    "\n",
    "\n",
    "    for hour in range(13, 24):\n",
    "        for minute in [0, 30]:    \n",
    "    \n",
    "            # First loop through sample dates (only one per week)\n",
    "            sample_results = []\n",
    "            for day in sample_date_range:\n",
    "                sample_results.append(calculate_sunset_for_date(day, hour, minute, timeevent, location, local_tz))\n",
    "\n",
    "            # Find the lowest elevation\n",
    "            sample_results.sort(key=lambda x: x['elevation'])\n",
    "            if earliest:\n",
    "                sample_day = sample_results[0]\n",
    "            else:\n",
    "                sample_day = sample_results[-1]\n",
    "\n",
    "            more_granulare_dates = pd.date_range(sample_day['day'] - timedelta(days=8), sample_day['day'] + timedelta(days=8), freq='D')\n",
    "            more_granulare_dates = more_granulare_dates[(more_granulare_dates >= '2025-01-01') & (more_granulare_dates <= '2025-12-31')]\n",
    "\n",
    "            # Find lowest sun elevation in all days.\n",
    "            day_records = []\n",
    "            for day in more_granulare_dates:\n",
    "                day_records.append(calculate_sunset_for_date(day, hour, minute, timeevent, location, local_tz))\n",
    "\n",
    "            # Now find the highest elevation\n",
    "            day_records.sort(key=lambda x: x['elevation'])\n",
    "\n",
    "            if earliest:\n",
    "                records.append(day_records[0])\n",
    "            else:\n",
    "                records.append(day_records[-1])\n",
    "\n",
    "    return records\n",
    "\n",
    "\n",
    "with tqdm(total=len(gdf_grid)) as pbar:\n",
    "    for cell in timedata:\n",
    "\n",
    "        pbar.update()\n",
    "\n",
    "        # if cell['nuts_id'] != 4502:\n",
    "        #     continue\n",
    "\n",
    "        local_tz = ZoneInfo(cell['timezone'])\n",
    "\n",
    "        # Get Grid Cell and Location Object\n",
    "        grid_cell = gdf_grid[gdf_grid.NUTS_ID == cell['nuts_id']].iloc[0]\n",
    "        x = grid_cell.geometry.centroid.y\n",
    "        y = grid_cell.geometry.centroid.x  \n",
    "        location = Location(LocationInfo(None, None, None, x, y))\n",
    "\n",
    "        record = {\n",
    "            'nuts_id': cell['nuts_id'],\n",
    "            'sunrise': {\n",
    "                # 'current': {\n",
    "                #     'latest': calculate_sunrise_hours_for_event(location, local_tz, 'current', False)\n",
    "                # },\n",
    "                'winter': {\n",
    "                    'latest': calculate_sunrise_hours_for_event(location, local_tz, 'winter', False),\n",
    "                    'earliest': calculate_sunrise_hours_for_event(location, local_tz, 'winter', True)\n",
    "                },\n",
    "                'summer': {\n",
    "                    'latest': calculate_sunrise_hours_for_event(location, local_tz, 'summer', False),\n",
    "                    'earliest': calculate_sunrise_hours_for_event(location, local_tz, 'summer', True)\n",
    "                }\n",
    "            },\n",
    "            'sunset': {\n",
    "                # 'current': {\n",
    "                #     'earliest': calculate_sunset_hours_for_event(location, local_tz, 'current', True)\n",
    "                # },\n",
    "                'winter': {\n",
    "                    'earliest': calculate_sunset_hours_for_event(location, local_tz, 'winter', True),\n",
    "                    'latest': calculate_sunset_hours_for_event(location, local_tz, 'winter', False)\n",
    "                },\n",
    "                'summer': {\n",
    "                    'earliest': calculate_sunset_hours_for_event(location, local_tz, 'summer', True),\n",
    "                    'latest': calculate_sunset_hours_for_event(location, local_tz, 'summer', False)\n",
    "                }\n",
    "            }\n",
    "        }\n",
    "\n",
    "        timedata_hourly.append(record)\n",
    "\n",
    "# Store\n",
    "json.dump(timedata_hourly, open(consts.PATH_TIMEDATA_HOURLY_HEX, 'w', encoding='UTF-8'), ensure_ascii=False, default=str)"
   ]
  },
  {
   "cell_type": "markdown",
   "metadata": {},
   "source": [
    "## Example"
   ]
  },
  {
   "cell_type": "code",
   "execution_count": null,
   "metadata": {},
   "outputs": [
    {
     "data": {
      "text/plain": [
       "5.62188698721711"
      ]
     },
     "execution_count": 49,
     "metadata": {},
     "output_type": "execute_result"
    }
   ],
   "source": [
    "local_tz = pytz.timezone(\"Europe/Oslo\")\n",
    "dt = datetime(2025, 1, 4, 8, 30)\n",
    "# dt = datetime(2025, 10, 25, 8, 30)\n",
    "dt = local_tz.localize(dt)\n",
    "\n",
    "x = 63.5183\n",
    "y = 10.3139\n",
    "\n",
    "location = LocationInfo(None, None, None, x, y)\n",
    "\n",
    "l = Location(location)\n",
    "e = l.solar_elevation(dt)\n",
    "e"
   ]
  },
  {
   "cell_type": "code",
   "execution_count": 47,
   "metadata": {},
   "outputs": [
    {
     "data": {
      "text/plain": [
       "{'dawn': datetime.datetime(2025, 10, 25, 7, 25, 32, 389387, tzinfo=<DstTzInfo 'Europe/Athens' EEST+3:00:00 DST>),\n",
       " 'sunrise': datetime.datetime(2025, 10, 25, 7, 53, 15, 227043, tzinfo=<DstTzInfo 'Europe/Athens' EEST+3:00:00 DST>),\n",
       " 'noon': datetime.datetime(2025, 10, 25, 10, 17, 35, tzinfo=datetime.timezone.utc),\n",
       " 'sunset': datetime.datetime(2025, 10, 25, 18, 41, 23, 994252, tzinfo=<DstTzInfo 'Europe/Athens' EEST+3:00:00 DST>),\n",
       " 'dusk': datetime.datetime(2025, 10, 25, 19, 9, 5, 610408, tzinfo=<DstTzInfo 'Europe/Athens' EEST+3:00:00 DST>)}"
      ]
     },
     "execution_count": 47,
     "metadata": {},
     "output_type": "execute_result"
    }
   ],
   "source": [
    "local_tz = pytz.timezone(\"Europe/Athens\")\n",
    "# dt = datetime(2025, 1, 4, 8, 30)\n",
    "dt = datetime(2025, 10, 25, 8, 30)\n",
    "dt = local_tz.localize(dt)\n",
    "\n",
    "x = 38.70305348749065\n",
    "y = 21.60567212232599\n",
    "\n",
    "location = Observer(x, y)\n",
    "\n",
    "s = sun(location, date=dt)\n",
    "s\n"
   ]
  },
  {
   "cell_type": "markdown",
   "metadata": {},
   "source": [
    "## Latest sunrise per year"
   ]
  },
  {
   "cell_type": "code",
   "execution_count": null,
   "metadata": {},
   "outputs": [
    {
     "data": {
      "text/plain": [
       "datetime.datetime(2025, 1, 2, 8, 57, 40, 925584, tzinfo=<DstTzInfo 'Europe/Rome' CET+1:00:00 STD>)"
      ]
     },
     "execution_count": 13,
     "metadata": {},
     "output_type": "execute_result"
    }
   ],
   "source": [
    "h_s = \"\"\n",
    "h_i = 10000\n",
    "\n",
    "local_tz = pytz.timezone(\"Europe/Rome\")\n",
    "x, y = 45.0979, 10.3193\n",
    "\n",
    "location = Observer(x, y)\n",
    "\n",
    "l = Location(location)\n",
    "\n",
    "sunrise_for_day = []\n",
    "for date in dates:\n",
    "    dt = local_tz.localize(date)\n",
    "\n",
    "    try:\n",
    "        s = sun(location, date=dt)\n",
    "        sunrise = s['sunrise']\n",
    "        if not sunrise.dst():\n",
    "            sunrise += timedelta(hours=1)\n",
    "\n",
    "        sunrise_for_day.append(sunrise)\n",
    "    except: pass\n",
    "\n",
    "\n",
    "max(sunrise_for_day, key=lambda x: x.time())"
   ]
  },
  {
   "cell_type": "markdown",
   "metadata": {},
   "source": [
    "### Lowerst Sunposition for specific time"
   ]
  },
  {
   "cell_type": "code",
   "execution_count": 26,
   "metadata": {},
   "outputs": [
    {
     "data": {
      "text/plain": [
       "{'date': datetime.datetime(2025, 12, 1, 19, 30, tzinfo=<DstTzInfo 'Europe/Rome' CET+1:00:00 STD>),\n",
       " 'elevation': -29.9}"
      ]
     },
     "execution_count": 26,
     "metadata": {},
     "output_type": "execute_result"
    }
   ],
   "source": [
    "h_s = \"\"\n",
    "h_i = 10000\n",
    "\n",
    "local_tz = pytz.timezone(\"Europe/Rome\")\n",
    "x, y = 45.1238,10.6952\n",
    "\n",
    "location = LocationInfo(None, None, None, x, y)\n",
    "\n",
    "l = Location(location)\n",
    "\n",
    "kalax = []\n",
    "\n",
    "for date in dates:\n",
    "    dt = local_tz.localize(date)\n",
    "\n",
    "    dt = dt + timedelta(hours=20, minutes=30)\n",
    "\n",
    "    # Ständig Winterzeit\n",
    "    # if dt.dst():\n",
    "    #     dt += timedelta(hours=1)\n",
    "\n",
    "    # Ständig Sommerzeit\n",
    "    if not dt.dst():\n",
    "        dt -= timedelta(hours=1)\n",
    "\n",
    "    e = l.solar_elevation(dt)\n",
    "\n",
    "    kalax.append({\n",
    "        'date': dt,\n",
    "        'elevation': round(e, 1)\n",
    "    })\n",
    "\n",
    "    if e < h_i:\n",
    "        h_i = e\n",
    "        h_s = dt\n",
    "\n",
    "kalax.sort(key=lambda x: x['elevation'])\n",
    "kalax[0]"
   ]
  },
  {
   "cell_type": "code",
   "execution_count": null,
   "metadata": {},
   "outputs": [],
   "source": []
  },
  {
   "cell_type": "code",
   "execution_count": null,
   "metadata": {},
   "outputs": [],
   "source": []
  }
 ],
 "metadata": {
  "kernelspec": {
   "display_name": "env",
   "language": "python",
   "name": "python3"
  },
  "language_info": {
   "codemirror_mode": {
    "name": "ipython",
    "version": 3
   },
   "file_extension": ".py",
   "mimetype": "text/x-python",
   "name": "python",
   "nbconvert_exporter": "python",
   "pygments_lexer": "ipython3",
   "version": "3.12.7"
  }
 },
 "nbformat": 4,
 "nbformat_minor": 2
}
