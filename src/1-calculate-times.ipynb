{
 "cells": [
  {
   "cell_type": "markdown",
   "metadata": {},
   "source": [
    "# Calculate Sunset and Sunrise\n",
    "Welcome to this ugly notebook! What you find here: Calculates the earliest and latest sunrise and sunset for:\n",
    "- the current year\n",
    "- if everything was in wintertime\n",
    "- if everything was in summertime\n",
    "\n",
    "Earliest sunrise is not during longest day. There may be a fancy formula to calculate this. We go bruth force. So we calculate the sunrise and sunset for each day in year 2025 and find the corresponding entry.\n",
    "\n",
    "## ToDo\n",
    "* Add Andorra\n",
    "* Add Bosnia and Herzegovina\n",
    "* Isle of man, Jersey, Guernsey\n",
    "* Nie Nacht prüfen\n",
    "* Hexagons"
   ]
  },
  {
   "cell_type": "code",
   "execution_count": 13,
   "metadata": {},
   "outputs": [],
   "source": [
    "import pandas as pd\n",
    "import geopandas as gpd\n",
    "from pathlib import Path\n",
    "from astral import Observer\n",
    "from astral.sun import sun\n",
    "from datetime import datetime, timedelta\n",
    "from dateutil.relativedelta import relativedelta\n",
    "import pytz\n",
    "from tqdm import tqdm\n",
    "import json\n",
    "import consts"
   ]
  },
  {
   "cell_type": "markdown",
   "metadata": {},
   "source": [
    "## Define"
   ]
  },
  {
   "cell_type": "code",
   "execution_count": 14,
   "metadata": {},
   "outputs": [],
   "source": [
    "USE_GRID = 'hex'"
   ]
  },
  {
   "cell_type": "markdown",
   "metadata": {},
   "source": [
    "## Import Data"
   ]
  },
  {
   "cell_type": "code",
   "execution_count": 15,
   "metadata": {},
   "outputs": [],
   "source": [
    "if USE_GRID == 'nuts':\n",
    "    gdf_grid = gpd.read_file(consts.PATH_MASTERNUTS)\n",
    "    gdf_grid['geometry'] = gdf_grid['geometry'].apply(lambda geom: geom.simplify(tolerance=0.01))\n",
    "    PATH_TIMEDATA = consts.PATH_TIMEDATA_NUTS\n",
    "elif USE_GRID == 'hex':\n",
    "    gdf_grid = gpd.read_file(consts.PATH_HEXAGON)\n",
    "    PATH_TIMEDATA = consts.PATH_TIMEDATA_HEX\n",
    "else:\n",
    "    raise ValueError(f\"Unknown grid type {USE_GRID}\")"
   ]
  },
  {
   "cell_type": "markdown",
   "metadata": {},
   "source": [
    "## Calculate"
   ]
  },
  {
   "cell_type": "code",
   "execution_count": 16,
   "metadata": {},
   "outputs": [
    {
     "name": "stderr",
     "output_type": "stream",
     "text": [
      "100%|██████████| 6001/6001 [01:45<00:00, 56.87it/s]\n"
     ]
    },
    {
     "name": "stdout",
     "output_type": "stream",
     "text": [
      "🍩 Finito\n"
     ]
    }
   ],
   "source": [
    "# Get all possible dates from 2025\n",
    "dates = [datetime(2025, 1, 1) + timedelta(days=x) for x in range(365)]\n",
    "\n",
    "timedata = []\n",
    "\n",
    "def transform_date_to_winter_summer_time(sun_object, event):\n",
    "\n",
    "    datetime_local = s[event].astimezone(local_tz)\n",
    "\n",
    "    # Subtract half a year from local_date\n",
    "    half_year_before = sun_object[event] - relativedelta(months=6)\n",
    "    half_year_before = half_year_before.astimezone(local_tz)\n",
    "\n",
    "    if bool(half_year_before.dst()) == False:\n",
    "        # Wintertime, no DST\n",
    "        datetime_winter = half_year_before.time()\n",
    "        datetime_summer = datetime_local.time()\n",
    "    else:\n",
    "        # Summertime, DST\n",
    "        datetime_winter = datetime_local.time()\n",
    "        datetime_summer = half_year_before.time()  \n",
    "       \n",
    "    return {\n",
    "            'utc': sun_object[event],\n",
    "            'local': datetime_local,\n",
    "            'time_winter': datetime_winter,\n",
    "            'time_summer': datetime_summer,\n",
    "        }\n",
    "\n",
    "def find_earliest_and_latest_in_list(suns_per_day, event, timeperiod):\n",
    "    return {\n",
    "            'earliest': min(suns_per_day[event], key=lambda x: x[timeperiod])[timeperiod],\n",
    "            'earliest_day': min(suns_per_day[event], key=lambda x: x[timeperiod])['local'].date(),\n",
    "            'latest': max(suns_per_day[event], key=lambda x: x[timeperiod])[timeperiod],\n",
    "            'latest_day': max(suns_per_day[event], key=lambda x: x[timeperiod])['local'].date()\n",
    "        }\n",
    "\n",
    "with tqdm(total=len(gdf_grid)) as pbar:\n",
    "    for i, row in gdf_grid.iterrows():\n",
    "\n",
    "        pbar.update()\n",
    "\n",
    "        location = Observer(row.geometry.centroid.y, row.geometry.centroid.x)\n",
    "\n",
    "        # Earliest sunrise is not the same as the longest day. We need to calculate\n",
    "        # the earliest day. We could do that the proper way. Or we could just bruth\n",
    "        # force it. You know what we are gonna do..?\n",
    "        suns_per_day = {\n",
    "            'sunrise': [],\n",
    "            'sunset': []\n",
    "        }\n",
    "\n",
    "        local_tz = pytz.timezone(row.timezone)\n",
    "        for d in dates:\n",
    "            try:\n",
    "                s = sun(location, date=d)\n",
    "                suns_per_day['sunrise'].append(transform_date_to_winter_summer_time(s, 'sunrise'))\n",
    "                suns_per_day['sunset'].append(transform_date_to_winter_summer_time(s, 'sunset'))\n",
    "            except ValueError:\n",
    "                pass\n",
    "\n",
    "        # Now get the earliest sunrise for winter and summer time\n",
    "        record = {\n",
    "            'nuts_id': row['NUTS_ID'],\n",
    "            'name': row['NAME_LATN'] if 'NAME_LATN' in row else 'hex',\n",
    "            'sunrise': {\n",
    "                'summer': find_earliest_and_latest_in_list(suns_per_day, 'sunrise', 'time_summer'),\n",
    "                'winter': find_earliest_and_latest_in_list(suns_per_day, 'sunrise', 'time_winter'),\n",
    "                'current': {\n",
    "                    'earliest': min(suns_per_day['sunrise'], key=lambda x: x['local'].time())['local'],\n",
    "                    'latest': max(suns_per_day['sunrise'], key=lambda x: x['local'].time())['local']\n",
    "                }\n",
    "            },\n",
    "            'sunset': {\n",
    "                'summer': find_earliest_and_latest_in_list(suns_per_day, 'sunset', 'time_summer'),\n",
    "                'winter': find_earliest_and_latest_in_list(suns_per_day, 'sunset', 'time_winter'),\n",
    "                'current': {\n",
    "                    'earliest': min(suns_per_day['sunset'], key=lambda x: x['local'].time())['local'],\n",
    "                    'latest': max(suns_per_day['sunset'], key=lambda x: x['local'].time())['local']\n",
    "                }\n",
    "            }\n",
    "        }\n",
    "\n",
    "        timedata.append(record)\n",
    "\n",
    "# Store\n",
    "json.dump(timedata, open(PATH_TIMEDATA, 'w', encoding='UTF-8'), ensure_ascii=False, indent=2, default=str)\n",
    "\n",
    "print(\"🍩 Finito\")"
   ]
  }
 ],
 "metadata": {
  "kernelspec": {
   "display_name": "env",
   "language": "python",
   "name": "python3"
  },
  "language_info": {
   "codemirror_mode": {
    "name": "ipython",
    "version": 3
   },
   "file_extension": ".py",
   "mimetype": "text/x-python",
   "name": "python",
   "nbconvert_exporter": "python",
   "pygments_lexer": "ipython3",
   "version": "3.12.7"
  }
 },
 "nbformat": 4,
 "nbformat_minor": 2
}
