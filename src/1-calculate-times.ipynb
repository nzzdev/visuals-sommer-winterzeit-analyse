{
 "cells": [
  {
   "cell_type": "markdown",
   "metadata": {},
   "source": [
    "# Calculate Sunset and Sunrise\n",
    "Welcome to this ugly notebook! What you find here: Calculates the earliest and latest sunrise and sunset for:\n",
    "- the current year\n",
    "- if everything was in wintertime\n",
    "- if everything was in summertime\n",
    "\n",
    "Earliest sunrise is not during longest day. There may be a fancy formula to calculate this. We go bruth force. So we calculate the sunrise and sunset for each day in year 2025 and find the corresponding entry."
   ]
  },
  {
   "cell_type": "code",
   "execution_count": 1,
   "metadata": {},
   "outputs": [],
   "source": [
    "import pandas as pd\n",
    "import geopandas as gpd\n",
    "from pathlib import Path\n",
    "from astral import Observer\n",
    "from astral.sun import sun\n",
    "from astral.location import Location, LocationInfo\n",
    "from datetime import datetime, timedelta\n",
    "from dateutil.relativedelta import relativedelta\n",
    "import pytz\n",
    "from tqdm import tqdm\n",
    "import json\n",
    "import consts"
   ]
  },
  {
   "cell_type": "markdown",
   "metadata": {},
   "source": [
    "## Define"
   ]
  },
  {
   "cell_type": "code",
   "execution_count": 2,
   "metadata": {},
   "outputs": [],
   "source": [
    "USE_GRID = 'hex'"
   ]
  },
  {
   "cell_type": "markdown",
   "metadata": {},
   "source": [
    "## Import Data"
   ]
  },
  {
   "cell_type": "code",
   "execution_count": 3,
   "metadata": {},
   "outputs": [],
   "source": [
    "if USE_GRID == 'nuts':\n",
    "    gdf_grid = gpd.read_file(consts.PATH_MASTERNUTS)\n",
    "    gdf_grid['geometry'] = gdf_grid['geometry'].apply(lambda geom: geom.simplify(tolerance=0.01))\n",
    "    PATH_TIMEDATA = consts.PATH_TIMEDATA_NUTS\n",
    "elif USE_GRID == 'hex':\n",
    "    gdf_grid = gpd.read_file(consts.PATH_HEXAGON)\n",
    "    PATH_TIMEDATA = consts.PATH_TIMEDATA_HEX\n",
    "else:\n",
    "    raise ValueError(f\"Unknown grid type {USE_GRID}\")"
   ]
  },
  {
   "cell_type": "markdown",
   "metadata": {},
   "source": [
    "## Helpers"
   ]
  },
  {
   "cell_type": "code",
   "execution_count": 4,
   "metadata": {},
   "outputs": [],
   "source": [
    "def transform_date_to_winter_summer_time(dt, local_tz):\n",
    "\n",
    "    datetime_local = dt.astimezone(local_tz)\n",
    "\n",
    "    datetime_winter = datetime_local.time()\n",
    "    datetime_summer = datetime_local.time()\n",
    "    if bool(datetime_local.dst()):\n",
    "        datetime_winter = (datetime_local - timedelta(hours=1)).time()\n",
    "    else:\n",
    "        datetime_summer = (datetime_local + timedelta(hours=1)).time()\n",
    "\n",
    "    return {\n",
    "            'utc': dt,\n",
    "            'local': datetime_local,\n",
    "            'time_winter': datetime_winter,\n",
    "            'time_summer': datetime_summer,\n",
    "        }\n",
    "\n",
    "def find_earliest_and_latest_in_list(suns_per_day, event, timeperiod):\n",
    "    return {\n",
    "            'earliest': min(suns_per_day[event], key=lambda x: x[timeperiod])[timeperiod],\n",
    "            'earliest_day': min(suns_per_day[event], key=lambda x: x[timeperiod])['local'].date(),\n",
    "            'latest': max(suns_per_day[event], key=lambda x: x[timeperiod])[timeperiod],\n",
    "            'latest_day': max(suns_per_day[event], key=lambda x: x[timeperiod])['local'].date()\n",
    "        }"
   ]
  },
  {
   "cell_type": "markdown",
   "metadata": {},
   "source": [
    "## Calculate Time of Sunrise and Sunset"
   ]
  },
  {
   "cell_type": "code",
   "execution_count": null,
   "metadata": {},
   "outputs": [
    {
     "name": "stderr",
     "output_type": "stream",
     "text": [
      "100%|██████████| 6247/6247 [01:15<00:00, 82.32it/s]\n"
     ]
    }
   ],
   "source": [
    "# Get all possible dates from 2025\n",
    "dates = [datetime(2025, 1, 1) + timedelta(days=x) for x in range(365)]\n",
    "\n",
    "timedata = []\n",
    "\n",
    "with tqdm(total=len(gdf_grid)) as pbar:\n",
    "    for i, row in gdf_grid.iterrows():\n",
    "\n",
    "        pbar.update()\n",
    "\n",
    "        location = Observer(row.geometry.centroid.y, row.geometry.centroid.x)\n",
    "\n",
    "        # Earliest sunrise is not the same as the longest day. We need to calculate\n",
    "        # the earliest day. We could do that the proper way. Or we could just bruth\n",
    "        # force it. You know what we are gonna do..?\n",
    "        suns_per_day = {\n",
    "            'sunrise': [],\n",
    "            'sunset': []\n",
    "        }\n",
    "\n",
    "        local_tz = pytz.timezone(row.timezone)\n",
    "\n",
    "        # Add this when testing own timezones\n",
    "        # x = row.geometry.centroid.x\n",
    "        # if x < -7.5:\n",
    "        #     tz = -60\n",
    "        # elif x < 7.5:\n",
    "        #     tz = 0\n",
    "        # elif x < 22.5:\n",
    "        #     tz = 60\n",
    "        # else:\n",
    "        #     tz = 120\n",
    "        # local_tz = pytz.FixedOffset(tz)\n",
    "\n",
    "        for d in dates:\n",
    "            try:\n",
    "                s = sun(location, date=d)\n",
    "                suns_per_day['sunrise'].append(transform_date_to_winter_summer_time(s['sunrise'], local_tz))\n",
    "                suns_per_day['sunset'].append(transform_date_to_winter_summer_time(s['sunset'], local_tz))\n",
    "            except ValueError:\n",
    "                pass\n",
    "\n",
    "        # Now get the earliest sunrise for winter and summer time\n",
    "        record = {\n",
    "            'nuts_id': row['NUTS_ID'],\n",
    "            'name': row['NAME_LATN'] if 'NAME_LATN' in row else 'hex',\n",
    "            'timezone': str(local_tz),\n",
    "            'sunrise': {\n",
    "                'summer': find_earliest_and_latest_in_list(suns_per_day, 'sunrise', 'time_summer'),\n",
    "                'winter': find_earliest_and_latest_in_list(suns_per_day, 'sunrise', 'time_winter'),\n",
    "                'current': {\n",
    "                    'earliest': min(suns_per_day['sunrise'], key=lambda x: x['local'].time())['local'].time(),\n",
    "                    'earliest_day': min(suns_per_day['sunrise'], key=lambda x: x['local'].time())['local'].date(),\n",
    "                    'latest': max(suns_per_day['sunrise'], key=lambda x: x['local'].time())['local'].time(),\n",
    "                    'latest_day': max(suns_per_day['sunrise'], key=lambda x: x['local'].time())['local'].date()\n",
    "                }\n",
    "            },\n",
    "            'sunset': {\n",
    "                'summer': find_earliest_and_latest_in_list(suns_per_day, 'sunset', 'time_summer'),\n",
    "                'winter': find_earliest_and_latest_in_list(suns_per_day, 'sunset', 'time_winter'),\n",
    "                'current': {\n",
    "                    'earliest': min(suns_per_day['sunset'], key=lambda x: x['local'].time())['local'].time(),\n",
    "                    'earliest_day': min(suns_per_day['sunset'], key=lambda x: x['local'].time())['local'].date(),\n",
    "                    'latest': max(suns_per_day['sunset'], key=lambda x: x['local'].time())['local'].time(),\n",
    "                    'latest_day': max(suns_per_day['sunset'], key=lambda x: x['local'].time())['local'].date()\n",
    "                }\n",
    "            }\n",
    "        }\n",
    "\n",
    "        timedata.append(record)\n",
    "\n",
    "# Store\n",
    "json.dump(timedata, open(PATH_TIMEDATA, 'w', encoding='UTF-8'), ensure_ascii=False, indent=2, default=str)"
   ]
  },
  {
   "cell_type": "markdown",
   "metadata": {},
   "source": [
    "## Calculate amount of light at certain hours"
   ]
  },
  {
   "cell_type": "code",
   "execution_count": null,
   "metadata": {},
   "outputs": [
    {
     "name": "stderr",
     "output_type": "stream",
     "text": [
      "100%|██████████| 6247/6247 [00:12<00:00, 496.09it/s]\n"
     ]
    }
   ],
   "source": [
    "timedata_hourly = []\n",
    "\n",
    "def calculate_hours_for_event(event, chosetime, day, local_tz):\n",
    "    records = []\n",
    "    # loop time\n",
    "    for hour in range(4, 14):\n",
    "        for minute in [0, 30]:\n",
    "            dt = datetime.combine(day, datetime.min.time()) + timedelta(hours=hour, minutes=minute)\n",
    "            dt = local_tz.localize(dt)\n",
    "\n",
    "            # if DST is active, we need to adjust the time\n",
    "            if dt.dst():\n",
    "                dt -= timedelta(hours=1)\n",
    "                \n",
    "            # Calculate sunrise\n",
    "            elevation = location.solar_elevation(dt)\n",
    "            elevation_category = ''\n",
    "            if elevation < -6:\n",
    "                elevation_category = 'night'\n",
    "            elif elevation < 0:\n",
    "                elevation_category = 'dawn'\n",
    "            elif elevation < 6:\n",
    "                elevation_category = 'sunrise'\n",
    "            else:\n",
    "                elevation_category = 'day'\n",
    "\n",
    "            records.append({\n",
    "                'hour': hour,\n",
    "                'minute': minute,\n",
    "                'elevation_category': elevation_category,\n",
    "                'elevation': round(elevation, 1)\n",
    "            })    \n",
    "\n",
    "    return records\n",
    "\n",
    "\n",
    "with tqdm(total=len(gdf_grid)) as pbar:\n",
    "    for cell in timedata:\n",
    "\n",
    "        pbar.update()\n",
    "\n",
    "        # if cell['nuts_id'] != 3443:\n",
    "        #     continue\n",
    "\n",
    "        local_tz = pytz.timezone(cell['timezone'])\n",
    "\n",
    "        # Get Grid Cell and Location Object\n",
    "        grid_cell = gdf_grid[gdf_grid.NUTS_ID == cell['nuts_id']].iloc[0]\n",
    "        x = grid_cell.geometry.centroid.y\n",
    "        y = grid_cell.geometry.centroid.x  \n",
    "        location = Location(LocationInfo(None, None, None, x, y))\n",
    "\n",
    "        record = {\n",
    "            'nuts_id': cell['nuts_id'],\n",
    "            'sunrise': {\n",
    "                'current': {\n",
    "                    'latest': calculate_hours_for_event('sunrise', 'current', cell['sunrise']['current']['latest_day'], local_tz)\n",
    "                },\n",
    "                'winter': {\n",
    "                    'latest': calculate_hours_for_event('sunrise', 'winter', cell['sunrise']['winter']['latest_day'], local_tz)\n",
    "                },\n",
    "                'summer': {\n",
    "                    'latest': calculate_hours_for_event('sunrise', 'summer', cell['sunrise']['summer']['latest_day'], local_tz)\n",
    "                }\n",
    "            },\n",
    "            'sunset': {\n",
    "                'current': {\n",
    "                    'earliest': calculate_hours_for_event('sunset', 'current', cell['sunset']['current']['earliest_day'], local_tz)\n",
    "                },\n",
    "                'winter': {\n",
    "                    'earliest': calculate_hours_for_event('sunset', 'winter', cell['sunset']['winter']['earliest_day'], local_tz)\n",
    "                },\n",
    "                'summer': {\n",
    "                    'earliest': calculate_hours_for_event('sunset', 'summer', cell['sunset']['summer']['earliest_day'], local_tz)\n",
    "                }\n",
    "            }\n",
    "        }\n",
    "\n",
    "        timedata_hourly.append(record)\n",
    "\n",
    "# Store\n",
    "json.dump(timedata_hourly, open(consts.PATH_TIMEDATA_HOURLY_HEX, 'w', encoding='UTF-8'), ensure_ascii=False, indent=2, default=str)"
   ]
  },
  {
   "cell_type": "markdown",
   "metadata": {},
   "source": [
    "## Example"
   ]
  },
  {
   "cell_type": "code",
   "execution_count": 7,
   "metadata": {},
   "outputs": [
    {
     "data": {
      "text/plain": [
       "-0.37155263146699724"
      ]
     },
     "execution_count": 7,
     "metadata": {},
     "output_type": "execute_result"
    }
   ],
   "source": [
    "\n",
    "local_tz = pytz.timezone(\"Europe/Zurich\")\n",
    "dt = datetime(2025, 3, 12, 6, 44, 54, 287448)\n",
    "dt = local_tz.localize(dt)\n",
    "\n",
    "x = 47.3845\n",
    "y = 8.5299\n",
    "\n",
    "location = LocationInfo(None, None, None, x, y)\n",
    "\n",
    "l = Location(location)\n",
    "e = l.solar_elevation(dt)\n",
    "e\n",
    "#l.solar_azimuth(dt)"
   ]
  }
 ],
 "metadata": {
  "kernelspec": {
   "display_name": "env",
   "language": "python",
   "name": "python3"
  },
  "language_info": {
   "codemirror_mode": {
    "name": "ipython",
    "version": 3
   },
   "file_extension": ".py",
   "mimetype": "text/x-python",
   "name": "python",
   "nbconvert_exporter": "python",
   "pygments_lexer": "ipython3",
   "version": "3.12.7"
  }
 },
 "nbformat": 4,
 "nbformat_minor": 2
}
