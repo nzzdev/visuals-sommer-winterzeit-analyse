{
 "cells": [
  {
   "cell_type": "markdown",
   "metadata": {},
   "source": [
    "# Export Hourly"
   ]
  },
  {
   "cell_type": "code",
   "execution_count": 2,
   "metadata": {},
   "outputs": [],
   "source": [
    "import geopandas as gpd\n",
    "import pandas as pd\n",
    "import json\n",
    "import consts"
   ]
  },
  {
   "cell_type": "code",
   "execution_count": 3,
   "metadata": {},
   "outputs": [],
   "source": [
    "# Load Nuts3\n",
    "gdf_grid_raw = gpd.read_file(consts.PATH_HEXAGON)\n",
    "\n",
    "# Load timedata\n",
    "time_data_hourly = json.load(open(consts.PATH_TIMEDATA_HOURLY_HEX, 'r', encoding='utf-8'))"
   ]
  },
  {
   "cell_type": "code",
   "execution_count": null,
   "metadata": {},
   "outputs": [],
   "source": [
    "# Serialize\n",
    "df_timedata = []\n",
    "\n",
    "for cell in time_data_hourly:\n",
    "\n",
    "    record = {\n",
    "        'nuts_id': cell['nuts_id']\n",
    "    }\n",
    "\n",
    "    # Add sunrise current\n",
    "    for x in cell['sunrise']['current']['latest']:\n",
    "        record[f\"sunrise_current_{x['hour']:02d}{x['minute']:02d}\"] = x['elevation']\n",
    "\n",
    "    df_timedata.append(record)\n",
    "\n",
    "df_timedata = pd.DataFrame(df_timedata)\n",
    "\n",
    "gdf_grid = gdf_grid_raw.merge(df_timedata, left_on='NUTS_ID', right_on='nuts_id')\n",
    "\n",
    "# Store\n",
    "gdf_grid.to_file(consts.PATH_GEOJSON_HOURLY)"
   ]
  },
  {
   "cell_type": "code",
   "execution_count": null,
   "metadata": {},
   "outputs": [],
   "source": []
  }
 ],
 "metadata": {
  "kernelspec": {
   "display_name": "env",
   "language": "python",
   "name": "python3"
  },
  "language_info": {
   "codemirror_mode": {
    "name": "ipython",
    "version": 3
   },
   "file_extension": ".py",
   "mimetype": "text/x-python",
   "name": "python",
   "nbconvert_exporter": "python",
   "pygments_lexer": "ipython3",
   "version": "3.12.7"
  }
 },
 "nbformat": 4,
 "nbformat_minor": 2
}
