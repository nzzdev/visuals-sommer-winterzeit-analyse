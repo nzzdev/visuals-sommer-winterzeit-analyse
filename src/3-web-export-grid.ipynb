{
 "cells": [
  {
   "cell_type": "markdown",
   "metadata": {},
   "source": [
    "# Webexport\n",
    "Create Popup-GeoJSON"
   ]
  },
  {
   "cell_type": "code",
   "execution_count": 8,
   "metadata": {},
   "outputs": [],
   "source": [
    "import geopandas as gpd\n",
    "import pandas as pd\n",
    "import json\n",
    "import consts\n",
    "from utils import categorize_time_to_half_hour, categorize_time_to_half_hour_numerical, time_to_time_str, dt_to_time, time_to_time, categorize_time_to_6min_numerical, categorize_time_to_6min"
   ]
  },
  {
   "cell_type": "code",
   "execution_count": 9,
   "metadata": {},
   "outputs": [],
   "source": [
    "# Load timedata\n",
    "time_data = json.load(open(consts.PATH_TIMEDATA_HEX, 'r', encoding='utf-8'))\n",
    "\n",
    "# Load Nuts3\n",
    "gdf_grid_raw = gpd.read_file(consts.PATH_HEXAGON)"
   ]
  },
  {
   "cell_type": "code",
   "execution_count": 12,
   "metadata": {},
   "outputs": [],
   "source": [
    "# Serialize Timedata\n",
    "df_timedata = list(map(lambda x: {\n",
    "    'nuts_id': x['nuts_id'],\n",
    "\n",
    "    'sunrise_latest_summer': x['sunrise']['summer']['latest'],\n",
    "    'sunrise_latest_winter': x['sunrise']['winter']['latest'],\n",
    "    'sunrise_latest_current': x['sunrise']['current']['latest'],\n",
    "\n",
    "    'sunrise_earliest_summer': x['sunrise']['summer']['earliest'],\n",
    "    'sunrise_earliest_winter': x['sunrise']['winter']['earliest'],\n",
    "    'sunrise_earliest_current': x['sunrise']['current']['earliest'],\n",
    "\n",
    "    'sunset_earliest_summer': x['sunset']['summer']['earliest'],\n",
    "    'sunset_earliest_winter': x['sunset']['winter']['earliest'],\n",
    "    'sunset_earliest_current': x['sunset']['current']['earliest'],\n",
    "\n",
    "    'sunset_latest_summer': x['sunset']['summer']['latest'],\n",
    "    'sunset_latest_winter': x['sunset']['winter']['latest'],\n",
    "    'sunset_latest_current': x['sunset']['current']['latest'],\n",
    "\n",
    "    'hidepopup': x['hidepopup']\n",
    "    \n",
    "    # 'latest_sunrise_summer_day': x['sunrise']['summer']['latest_day'],\n",
    "    # 'earliest_sunset_summer_day': x['sunset']['summer']['earliest_day'],\n",
    "}, time_data))\n",
    "\n",
    "df_timedata = pd.DataFrame(df_timedata)\n",
    "\n",
    "# Convert strings to time\n",
    "def convert_time(x):\n",
    "    df_timedata[x] = df_timedata[x].apply(time_to_time_str)\n",
    "\n",
    "# for x in [\n",
    "#     'sunrise_latest_summer', 'sunrise_latest_winter', 'sunrise_latest_current',\n",
    "#     'sunrise_earliest_summer', 'sunrise_earliest_winter', 'sunrise_earliest_current',\n",
    "#     'sunset_earliest_summer', 'sunset_earliest_winter', 'sunset_earliest_current',\n",
    "#     'sunset_latest_summer', 'sunset_latest_winter', 'sunset_latest_current'\n",
    "# ]:\n",
    "#     convert_time(x)\n",
    "\n",
    "# Define how detailed the output should be (half hour? 5min?)\n",
    "# categorizes_function = categorize_time_to_half_hour\n",
    "# categorizes_numerical_function = categorize_time_to_half_hour_numerical\n",
    "categorizes_function = categorize_time_to_6min\n",
    "categorizes_numerical_function = categorize_time_to_6min_numerical\n",
    "\n",
    "def calculate_event(event):\n",
    "\n",
    "    # Current System\n",
    "    df_timedata[f'{event}_current_numerical'] = df_timedata[f'{event}_current'].apply(categorizes_numerical_function)\n",
    "\n",
    "    # Everything on summer\n",
    "    df_timedata[f'{event}_summer_numerical'] = df_timedata[f'{event}_summer'].apply(categorizes_numerical_function)\n",
    "    \n",
    "    # Everything on winter\n",
    "    df_timedata[f'{event}_winter_numerical'] = df_timedata[f'{event}_winter'].apply(categorizes_numerical_function)\n",
    "\n",
    "# calculate_event('sunrise_earliest')    \n",
    "# calculate_event('sunset_earliest')    \n",
    "# calculate_event('sunset_latest')    \n",
    "\n",
    "# Merge Dataframes\n",
    "gdf_grid = gdf_grid_raw.merge(df_timedata, left_on='NUTS_ID', right_on='nuts_id')\n",
    "gdf_grid = gdf_grid.drop(columns=['nuts_id'])\n",
    "\n",
    "# Drop unwanted Timezones\n",
    "gdf_grid = gdf_grid[~gdf_grid['timezone'].isin(consts.REMOVE_TIMEZONES)]"
   ]
  },
  {
   "cell_type": "markdown",
   "metadata": {},
   "source": [
    "## Export GeoJSON"
   ]
  },
  {
   "cell_type": "code",
   "execution_count": 14,
   "metadata": {},
   "outputs": [],
   "source": [
    "gdf_grid.to_file(consts.PATH_GEOJSON_POPUPDATA)"
   ]
  },
  {
   "cell_type": "code",
   "execution_count": null,
   "metadata": {},
   "outputs": [],
   "source": []
  }
 ],
 "metadata": {
  "kernelspec": {
   "display_name": "env",
   "language": "python",
   "name": "python3"
  },
  "language_info": {
   "codemirror_mode": {
    "name": "ipython",
    "version": 3
   },
   "file_extension": ".py",
   "mimetype": "text/x-python",
   "name": "python",
   "nbconvert_exporter": "python",
   "pygments_lexer": "ipython3",
   "version": "3.12.7"
  }
 },
 "nbformat": 4,
 "nbformat_minor": 2
}
