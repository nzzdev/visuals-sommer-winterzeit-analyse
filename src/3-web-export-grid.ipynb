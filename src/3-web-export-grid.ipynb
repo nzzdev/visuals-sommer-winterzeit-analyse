{
 "cells": [
  {
   "cell_type": "markdown",
   "metadata": {},
   "source": [
    "# Webexport\n",
    "!! tippecanoe installieren !!\n",
    "\n",
    "```\n",
    "brew install tippecanoe\n",
    "```"
   ]
  },
  {
   "cell_type": "code",
   "execution_count": 1,
   "metadata": {},
   "outputs": [],
   "source": [
    "import geopandas as gpd\n",
    "import pandas as pd\n",
    "import json\n",
    "import os\n",
    "import consts\n",
    "import matplotlib.colors as mcolors\n",
    "from utils import categorize_time_to_half_hour, categorize_time_to_half_hour_numerical, dt_to_time, time_to_time, categorize_time_to_6min_numerical, categorize_time_to_6min\n",
    "import pyperclip"
   ]
  },
  {
   "cell_type": "code",
   "execution_count": 2,
   "metadata": {},
   "outputs": [],
   "source": [
    "# Load timedata\n",
    "time_data = json.load(open(consts.PATH_TIMEDATA_HEX, 'r', encoding='utf-8'))\n",
    "\n",
    "# Load Nuts3\n",
    "gdf_grid_raw = gpd.read_file(consts.PATH_HEXAGON)"
   ]
  },
  {
   "cell_type": "code",
   "execution_count": 3,
   "metadata": {},
   "outputs": [],
   "source": [
    "# Serialize Timedata\n",
    "df_timedata = list(map(lambda x: {\n",
    "    'nuts_id': x['nuts_id'],\n",
    "    'name': x['name'],\n",
    "    'sunrise_current_dt': x['sunrise']['current']['latest'],\n",
    "    'sunrise_summertime': x['sunrise']['summer']['latest'],\n",
    "    'sunrise_wintertime': x['sunrise']['winter']['latest'],\n",
    "    'sunset_current_dt': x['sunset']['current']['earliest'],\n",
    "    'sunset_summertime': x['sunset']['summer']['earliest'],\n",
    "    'sunset_wintertime': x['sunset']['winter']['earliest']\n",
    "}, time_data))\n",
    "\n",
    "df_timedata = pd.DataFrame(df_timedata)\n",
    "\n",
    "# Convert strings to time\n",
    "df_timedata['sunrise_current'] = df_timedata['sunrise_current_dt'].apply(dt_to_time)\n",
    "df_timedata['sunrise_summertime'] = df_timedata['sunrise_summertime'].apply(time_to_time)\n",
    "df_timedata['sunrise_wintertime'] = df_timedata['sunrise_wintertime'].apply(time_to_time)\n",
    "df_timedata['sunset_current'] = df_timedata['sunset_current_dt'].apply(dt_to_time)\n",
    "df_timedata['sunset_summertime'] = df_timedata['sunset_summertime'].apply(time_to_time)\n",
    "df_timedata['sunset_wintertime'] = df_timedata['sunset_wintertime'].apply(time_to_time)\n",
    "\n",
    "# Define how detailed the output should be (half hour? 5min?)\n",
    "# categorizes_function = categorize_time_to_half_hour\n",
    "# categorizes_numerical_function = categorize_time_to_half_hour_numerical\n",
    "categorizes_function = categorize_time_to_6min\n",
    "categorizes_numerical_function = categorize_time_to_6min_numerical\n",
    "\n",
    "def calculate_event(event):\n",
    "\n",
    "    # Current System\n",
    "    df_timedata[f'{event}_current_category'] = df_timedata[f'{event}_current'].apply(categorizes_function)\n",
    "    df_timedata[f'{event}_current_numerical'] = df_timedata[f'{event}_current'].apply(categorizes_numerical_function)\n",
    "\n",
    "    # Everything on Summertime\n",
    "    df_timedata[f'{event}_summertime_category'] = df_timedata[f'{event}_summertime'].apply(categorizes_function)\n",
    "    df_timedata[f'{event}_summertime_numerical'] = df_timedata[f'{event}_summertime'].apply(categorizes_numerical_function)\n",
    "\n",
    "    # Everything on Wintertime\n",
    "    df_timedata[f'{event}_wintertime_category'] = df_timedata[f'{event}_wintertime'].apply(categorizes_function)\n",
    "    df_timedata[f'{event}_wintertime_numerical'] = df_timedata[f'{event}_wintertime'].apply(categorizes_numerical_function)\n",
    "\n",
    "calculate_event('sunrise')    \n",
    "calculate_event('sunset')    \n",
    "\n",
    "# Merge Dataframes\n",
    "gdf_grid = gdf_grid_raw.merge(df_timedata, left_on='NUTS_ID', right_on='nuts_id')"
   ]
  },
  {
   "cell_type": "code",
   "execution_count": 4,
   "metadata": {},
   "outputs": [
    {
     "data": {
      "text/plain": [
       "np.float64(14.2)"
      ]
     },
     "execution_count": 4,
     "metadata": {},
     "output_type": "execute_result"
    }
   ],
   "source": [
    "df_timedata['sunrise_summertime_numerical'].max() "
   ]
  },
  {
   "cell_type": "markdown",
   "metadata": {},
   "source": [
    "## Create fill-color-Expression for Maptiler"
   ]
  },
  {
   "cell_type": "code",
   "execution_count": 5,
   "metadata": {},
   "outputs": [],
   "source": [
    "# Wintertime\n",
    "# color_scale = [\"#6262DD\", \"#9A68FC\", \"#F99ED6\"]\n",
    "# field = 'sunrise_wintertime_numerical'\n",
    "\n",
    "# Sommertime\n",
    "color_scale = [\"#F25D40\", \"#FFAA76\", \"#FFE876\"]\n",
    "field = 'sunrise_summertime_numerical'"
   ]
  },
  {
   "cell_type": "code",
   "execution_count": 6,
   "metadata": {},
   "outputs": [
    {
     "data": {
      "text/plain": [
       "(np.float64(7.6), np.float64(14.2))"
      ]
     },
     "execution_count": 6,
     "metadata": {},
     "output_type": "execute_result"
    }
   ],
   "source": [
    "# Create custom colormap\n",
    "cmap = mcolors.LinearSegmentedColormap.from_list(\"custom_cmap\", color_scale)\n",
    "\n",
    "# Normalize\n",
    "norm = mcolors.Normalize(vmin=df_timedata[field].min(), vmax=df_timedata[field].max())\n",
    "\n",
    "# Function to get color for a given value\n",
    "def get_color(value):\n",
    "    return mcolors.to_hex(cmap(norm(value)))\n",
    "\n",
    "df_timedata[field].min(), df_timedata[field].max()"
   ]
  },
  {
   "cell_type": "code",
   "execution_count": 7,
   "metadata": {},
   "outputs": [],
   "source": [
    "stepper = 0\n",
    "values = []\n",
    "for i in range(int(df_timedata[field].min() * 10), int(df_timedata[field].max() * 10) + 1):\n",
    "    value = i / 10\n",
    "    values.append(str(value).replace('.0', ''))\n",
    "    values.append(f'\"{get_color(value)}\"')\n",
    "    stepper += 1\n",
    "\n",
    "\n",
    "maptiler_style = \"\"\"\n",
    " [\n",
    "      \"interpolate\",\n",
    "      [\n",
    "        \"linear\"\n",
    "      ],\n",
    "      [\n",
    "        \"get\",\n",
    "        {field}\n",
    "      ],\n",
    "      \"\"\" + '\\n      ,'.join(map(str, values)) + \"\"\"\n",
    "    ],\"\"\"\n",
    "\n",
    "pyperclip.copy(maptiler_style)"
   ]
  },
  {
   "cell_type": "markdown",
   "metadata": {},
   "source": [
    "## Export GeoJSON"
   ]
  },
  {
   "cell_type": "code",
   "execution_count": 8,
   "metadata": {},
   "outputs": [],
   "source": [
    "gdf_grid.to_file(consts.PATH_GEOJSON_EXPORT)"
   ]
  },
  {
   "cell_type": "code",
   "execution_count": null,
   "metadata": {},
   "outputs": [],
   "source": []
  }
 ],
 "metadata": {
  "kernelspec": {
   "display_name": "env",
   "language": "python",
   "name": "python3"
  },
  "language_info": {
   "codemirror_mode": {
    "name": "ipython",
    "version": 3
   },
   "file_extension": ".py",
   "mimetype": "text/x-python",
   "name": "python",
   "nbconvert_exporter": "python",
   "pygments_lexer": "ipython3",
   "version": "3.12.7"
  }
 },
 "nbformat": 4,
 "nbformat_minor": 2
}
