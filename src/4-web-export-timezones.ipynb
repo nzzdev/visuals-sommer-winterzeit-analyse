{
 "cells": [
  {
   "cell_type": "markdown",
   "metadata": {},
   "source": [
    "# Zeitzonen exportieren"
   ]
  },
  {
   "cell_type": "code",
   "execution_count": 65,
   "metadata": {},
   "outputs": [],
   "source": [
    "from pathlib import Path\n",
    "import geopandas as gpd\n",
    "import json\n",
    "import os\n",
    "import consts"
   ]
  },
  {
   "cell_type": "markdown",
   "metadata": {},
   "source": [
    "## Create 15° Lines"
   ]
  },
  {
   "cell_type": "code",
   "execution_count": null,
   "metadata": {},
   "outputs": [],
   "source": [
    "features = []\n",
    "\n",
    "for i in range(0, 24):\n",
    "\n",
    "    lon = (i * 15) - 180 + 7.5\n",
    "\n",
    "    features.append({\n",
    "        'type': 'Feature',\n",
    "        'geometry': {\n",
    "            'type': 'LineString',\n",
    "            'coordinates': [\n",
    "                [lon, -90],\n",
    "                [lon, 90],\n",
    "            ]\n",
    "        }\n",
    "    })\n",
    "\n",
    "\n",
    "json.dump({\n",
    "    'type': 'FeatureCollection',\n",
    "    'features': features\n",
    "}, open(Path('../export/web/timezone-lines.geojson'), 'w', encoding='utf-8'), ensure_ascii=False)"
   ]
  },
  {
   "cell_type": "markdown",
   "metadata": {},
   "source": [
    "## Add Timezones to Country shapes"
   ]
  },
  {
   "cell_type": "code",
   "execution_count": 35,
   "metadata": {},
   "outputs": [],
   "source": [
    "gdf_countries_raw = gpd.read_file(Path('../data/countries-europe.gpkg'))"
   ]
  },
  {
   "cell_type": "code",
   "execution_count": 68,
   "metadata": {},
   "outputs": [],
   "source": [
    "gdf_countries = gdf_countries_raw.copy()\n",
    "\n",
    "# Set Timezone\n",
    "gdf_countries['timezone_is'] = 1\n",
    "gdf_countries.loc[gdf_countries['ISO_A2_EH'].isin(['PT', 'GB', 'IE', 'IS']), 'timezone_is'] = 0\n",
    "gdf_countries.loc[gdf_countries['ISO_A2_EH'].isin(['FI', 'EE', 'LT', 'LV', 'RO', 'BG', 'GR', 'MD', 'UA']), 'timezone_is'] = 2\n",
    "gdf_countries.loc[gdf_countries['ISO_A2_EH'].isin(['RU', 'BY', 'TK']), 'timezone_is'] = 3\n",
    "\n",
    "# Timezone should\n",
    "gdf_countries.loc[gdf_countries['ISO_A2_EH'].isin(['IS', 'IE', 'PT']), 'timezone_should'] = -1\n",
    "gdf_countries.loc[gdf_countries['ISO_A2_EH'].isin(['ES', 'GB', 'FR', 'BE', 'NL', 'LU']), 'timezone_should'] = 0\n",
    "gdf_countries.loc[gdf_countries['ISO_A2_EH'].isin(['DE', 'CH', 'IT', 'AT', 'PL', 'CZ', 'SI', 'HR', 'BA', 'ME', 'AL', 'MK', 'XK', 'RS', 'HU', 'SK', 'NO', 'SE', 'DK']), 'timezone_should'] = 1\n",
    "gdf_countries.loc[gdf_countries['ISO_A2_EH'].isin(['FI', 'EE', 'LT', 'LV', 'UA', 'RO', 'BG', 'GR', 'MD', 'BY']), 'timezone_should'] = 2\n",
    "\n",
    "# Drop Countries\n",
    "gdf_countries = gdf_countries[~gdf_countries['ISO_A2_EH'].isin(['RU', 'TK'])]\n",
    "\n",
    "gdf_countries = gdf_countries[['geometry', 'ISO_A2_EH', 'timezone_is', 'timezone_should']]\n",
    "\n",
    "gdf_countries.to_file(Path('../export/web/countries.geojson'))"
   ]
  },
  {
   "cell_type": "code",
   "execution_count": 69,
   "metadata": {},
   "outputs": [
    {
     "name": "stderr",
     "output_type": "stream",
     "text": [
      "For layer 0, using name \"countries\"\n",
      "50 features, 581724 bytes of geometry, 263 bytes of string pool\n",
      "Choosing a maxzoom of -z0 for features typically 2113883 feet (644312 meters) apart, and at least 404454 feet (123278 meters) apart\n",
      "Choosing a maxzoom of -z5 for resolution of about 13965 feet (4256 meters) within features\n",
      "  99.9%  5/14/13  \n"
     ]
    },
    {
     "data": {
      "text/plain": [
       "0"
      ]
     },
     "execution_count": 69,
     "metadata": {},
     "output_type": "execute_result"
    }
   ],
   "source": [
    "# Run Tippecanoe\n",
    "os.system(f\"tippecanoe -zg -o {Path('../export/web/countries.mbtiles')} --drop-densest-as-needed {Path('../export/web/countries.geojson')} --force\")"
   ]
  },
  {
   "cell_type": "code",
   "execution_count": null,
   "metadata": {},
   "outputs": [],
   "source": []
  }
 ],
 "metadata": {
  "kernelspec": {
   "display_name": "env",
   "language": "python",
   "name": "python3"
  },
  "language_info": {
   "codemirror_mode": {
    "name": "ipython",
    "version": 3
   },
   "file_extension": ".py",
   "mimetype": "text/x-python",
   "name": "python",
   "nbconvert_exporter": "python",
   "pygments_lexer": "ipython3",
   "version": "3.12.7"
  }
 },
 "nbformat": 4,
 "nbformat_minor": 2
}
