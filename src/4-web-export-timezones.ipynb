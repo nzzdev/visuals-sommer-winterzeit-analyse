{
 "cells": [
  {
   "cell_type": "markdown",
   "metadata": {},
   "source": [
    "# Zeitzonen exportieren"
   ]
  },
  {
   "cell_type": "code",
   "execution_count": 1,
   "metadata": {},
   "outputs": [],
   "source": [
    "from pathlib import Path\n",
    "import geopandas as gpd\n",
    "import json\n",
    "import os\n",
    "import consts"
   ]
  },
  {
   "cell_type": "markdown",
   "metadata": {},
   "source": [
    "## Create 15° Lines"
   ]
  },
  {
   "cell_type": "code",
   "execution_count": 2,
   "metadata": {},
   "outputs": [],
   "source": [
    "features = []\n",
    "\n",
    "for i in range(0, 24):\n",
    "\n",
    "    lon = (i * 15) - 180 + 7.5\n",
    "\n",
    "    features.append({\n",
    "        'type': 'Feature',\n",
    "        'properties': {\n",
    "            'timezone': i,\n",
    "        },\n",
    "        'geometry': {\n",
    "            'type': 'LineString',\n",
    "            'coordinates': [\n",
    "                [lon, -90],\n",
    "                [lon, 90],\n",
    "            ]\n",
    "        }\n",
    "    })\n",
    "\n",
    "\n",
    "json.dump({\n",
    "    'type': 'FeatureCollection',\n",
    "    'features': features\n",
    "}, open(consts.PATH_GEOJSON_TIMEZONES, 'w', encoding='utf-8'), ensure_ascii=False)"
   ]
  },
  {
   "cell_type": "markdown",
   "metadata": {},
   "source": [
    "## Add Timezones to Country shapes"
   ]
  },
  {
   "cell_type": "code",
   "execution_count": 3,
   "metadata": {},
   "outputs": [],
   "source": [
    "gdf_countries_raw = gpd.read_file(Path('../data/countries-europe.gpkg'))"
   ]
  },
  {
   "cell_type": "code",
   "execution_count": 4,
   "metadata": {},
   "outputs": [],
   "source": [
    "gdf_countries = gdf_countries_raw.copy()\n",
    "\n",
    "# Set Timezone\n",
    "gdf_countries['timezone_is'] = 1\n",
    "gdf_countries.loc[gdf_countries['ISO_A2_EH'].isin(['PT', 'GB', 'IE', 'IS']), 'timezone_is'] = 0\n",
    "gdf_countries.loc[gdf_countries['ISO_A2_EH'].isin(['FI', 'EE', 'LT', 'LV', 'RO', 'BG', 'GR', 'MD', 'UA']), 'timezone_is'] = 2\n",
    "gdf_countries.loc[gdf_countries['ISO_A2_EH'].isin(['RU', 'BY', 'TK']), 'timezone_is'] = 3\n",
    "\n",
    "# Timezone should\n",
    "gdf_countries.loc[gdf_countries['ISO_A2_EH'].isin(['IS', 'IE', 'PT']), 'timezone_should'] = -1\n",
    "gdf_countries.loc[gdf_countries['ISO_A2_EH'].isin(['ES', 'GB', 'FR', 'BE', 'NL', 'LU']), 'timezone_should'] = 0\n",
    "gdf_countries.loc[gdf_countries['ISO_A2_EH'].isin(['DE', 'CH', 'IT', 'AT', 'PL', 'CZ', 'SI', 'HR', 'BA', 'ME', 'AL', 'MK', 'XK', 'RS', 'HU', 'SK', 'NO', 'SE', 'DK']), 'timezone_should'] = 1\n",
    "gdf_countries.loc[gdf_countries['ISO_A2_EH'].isin(['FI', 'EE', 'LT', 'LV', 'UA', 'RO', 'BG', 'GR', 'MD', 'BY']), 'timezone_should'] = 2\n",
    "\n",
    "# Drop Countries\n",
    "gdf_countries = gdf_countries[~gdf_countries['ISO_A2_EH'].isin(['RU', 'TK'])]\n",
    "\n",
    "gdf_countries = gdf_countries[['geometry', 'ISO_A2_EH', 'timezone_is', 'timezone_should']]\n",
    "\n",
    "gdf_countries.to_file(consts.PATH_GEOJSON_COUNTRIES)"
   ]
  },
  {
   "cell_type": "markdown",
   "metadata": {},
   "source": [
    "## Merge everything"
   ]
  },
  {
   "cell_type": "code",
   "execution_count": 5,
   "metadata": {},
   "outputs": [
    {
     "name": "stderr",
     "output_type": "stream",
     "text": [
      "For layer 0, using name \"countries\"\n",
      "For layer 1, using name \"grid\"\n",
      "For layer 2, using name \"timezonelines\"\n",
      "6075 features, 1974887 bytes of geometry, 854651 bytes of string pool\n",
      "Choosing a maxzoom of -z1 for features typically 163681 feet (49890 meters) apart, and at least 55693 feet (16976 meters) apart\n",
      "Choosing a maxzoom of -z4 for resolution of about 16264 feet (4957 meters) within features\n",
      "  99.9%  4/9/2   \n"
     ]
    },
    {
     "data": {
      "text/plain": [
       "0"
      ]
     },
     "execution_count": 5,
     "metadata": {},
     "output_type": "execute_result"
    }
   ],
   "source": [
    "# Run Tippecanoe\n",
    "os.system(f\"tippecanoe -zg -o {consts.PATH_WEBEXPORT / 'zeitumstellung.mbtiles'} --drop-densest-as-needed {consts.PATH_GEOJSON_COUNTRIES} {consts.PATH_GEOJSON_EXPORT} {consts.PATH_GEOJSON_TIMEZONES} --force\")"
   ]
  },
  {
   "cell_type": "code",
   "execution_count": null,
   "metadata": {},
   "outputs": [],
   "source": []
  }
 ],
 "metadata": {
  "kernelspec": {
   "display_name": "env",
   "language": "python",
   "name": "python3"
  },
  "language_info": {
   "codemirror_mode": {
    "name": "ipython",
    "version": 3
   },
   "file_extension": ".py",
   "mimetype": "text/x-python",
   "name": "python",
   "nbconvert_exporter": "python",
   "pygments_lexer": "ipython3",
   "version": "3.12.7"
  }
 },
 "nbformat": 4,
 "nbformat_minor": 2
}
